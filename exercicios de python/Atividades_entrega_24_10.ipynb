{
  "nbformat": 4,
  "nbformat_minor": 0,
  "metadata": {
    "colab": {
      "provenance": []
    },
    "kernelspec": {
      "name": "python3",
      "display_name": "Python 3"
    },
    "language_info": {
      "name": "python"
    }
  },
  "cells": [
    {
      "cell_type": "markdown",
      "source": [
        "# Treinamento"
      ],
      "metadata": {
        "id": "BvjPoPw6tqkm"
      }
    },
    {
      "cell_type": "code",
      "execution_count": 1,
      "metadata": {
        "colab": {
          "base_uri": "https://localhost:8080/"
        },
        "id": "XiYuEpO3tP5X",
        "outputId": "105f03cd-5fa0-450e-c0cc-3287759ddc52"
      },
      "outputs": [
        {
          "output_type": "stream",
          "name": "stdout",
          "text": [
            "Hello World\n",
            "Usando IDE externa\n"
          ]
        }
      ],
      "source": [
        "# Duas linhas de saída\n",
        "print('Hello World')\n",
        "print('Usando IDE externa')"
      ]
    },
    {
      "cell_type": "markdown",
      "source": [
        "## Números"
      ],
      "metadata": {
        "id": "WOBsBqfJue1S"
      }
    },
    {
      "cell_type": "code",
      "source": [
        "print(2+2)\n",
        "print(50-5*6)\n",
        "print((50-5*6)/4)\n",
        "print(8/5)"
      ],
      "metadata": {
        "colab": {
          "base_uri": "https://localhost:8080/"
        },
        "id": "DP5j2MiAuL3U",
        "outputId": "0fbd7fbe-ceb2-4ffb-d597-e0d71a70c226"
      },
      "execution_count": 2,
      "outputs": [
        {
          "output_type": "stream",
          "name": "stdout",
          "text": [
            "4\n",
            "20\n",
            "5.0\n",
            "1.6\n"
          ]
        }
      ]
    },
    {
      "cell_type": "code",
      "source": [
        "print(17 / 3) # divisão clássica que retorna float\n",
        "print(17 // 3) # divisão que retorna apenas a parte inteira\n",
        "print(17 % 3) # resto da divisão\n",
        "print(5 * 3 + 2) # quociente mínimo * divisor + resto\n",
        "print('------------------------------------------------')\n",
        "print(5 ** 2) # potências\n",
        "print(2 ** 7) # potências"
      ],
      "metadata": {
        "colab": {
          "base_uri": "https://localhost:8080/"
        },
        "id": "-jJlEqIcueU4",
        "outputId": "1158f1e1-4ec1-4a50-92ea-570b8b199f76"
      },
      "execution_count": 10,
      "outputs": [
        {
          "output_type": "stream",
          "name": "stdout",
          "text": [
            "5.666666666666667\n",
            "5\n",
            "2\n",
            "17\n",
            "------------------------------------------------\n",
            "25\n",
            "128\n"
          ]
        }
      ]
    },
    {
      "cell_type": "markdown",
      "source": [
        "## Sinal de '='"
      ],
      "metadata": {
        "id": "ET95y3uHveXl"
      }
    },
    {
      "cell_type": "code",
      "source": [
        "width = 20\n",
        "height = 5 * 9\n",
        "width * height"
      ],
      "metadata": {
        "colab": {
          "base_uri": "https://localhost:8080/"
        },
        "id": "T8O6Iby_vg0R",
        "outputId": "5d63a4b0-e3cf-42c3-c3de-8cc876861c5b"
      },
      "execution_count": 11,
      "outputs": [
        {
          "output_type": "execute_result",
          "data": {
            "text/plain": [
              "900"
            ]
          },
          "metadata": {},
          "execution_count": 11
        }
      ]
    },
    {
      "cell_type": "markdown",
      "source": [
        "## Conversão de int para float"
      ],
      "metadata": {
        "id": "I1uIyKIZ_zeC"
      }
    },
    {
      "cell_type": "code",
      "source": [
        "4 * 3.75 - 1"
      ],
      "metadata": {
        "colab": {
          "base_uri": "https://localhost:8080/"
        },
        "id": "sV3yKOYcvyZz",
        "outputId": "e29bdf6b-1797-4945-f09c-80ed0e5c51bd"
      },
      "execution_count": 12,
      "outputs": [
        {
          "output_type": "execute_result",
          "data": {
            "text/plain": [
              "14.0"
            ]
          },
          "metadata": {},
          "execution_count": 12
        }
      ]
    },
    {
      "cell_type": "markdown",
      "source": [
        "## Interativo"
      ],
      "metadata": {
        "id": "Z5KVR_8pw5PN"
      }
    },
    {
      "cell_type": "code",
      "source": [
        "tax = 12.5 / 100\n",
        "price = 100.50\n",
        "\n",
        "tax_amount = price * tax\n",
        "print(tax_amount)\n",
        "\n",
        "total_price = price + tax_amount\n",
        "print(total_price)\n",
        "\n",
        "rounded_total = round(total_price, 2)\n",
        "print(rounded_total)\n"
      ],
      "metadata": {
        "colab": {
          "base_uri": "https://localhost:8080/"
        },
        "id": "gi7loGA0v31I",
        "outputId": "2692d159-66e2-4558-e46f-f1d77c1bf731"
      },
      "execution_count": 15,
      "outputs": [
        {
          "output_type": "stream",
          "name": "stdout",
          "text": [
            "12.5625\n",
            "113.0625\n",
            "113.06\n"
          ]
        }
      ]
    },
    {
      "cell_type": "markdown",
      "source": [
        "## Texto"
      ],
      "metadata": {
        "id": "gNUmmSQVw9Cf"
      }
    },
    {
      "cell_type": "code",
      "source": [
        "print('spam eggs')\n",
        "print(\"Paris rabbit got your back :)! Yay!\")\n",
        "print('1975') #Números tratados como string\n"
      ],
      "metadata": {
        "colab": {
          "base_uri": "https://localhost:8080/"
        },
        "id": "7n8vxaSjxEAu",
        "outputId": "84d3fc70-a52f-46dc-806a-eead1555d0a8"
      },
      "execution_count": 16,
      "outputs": [
        {
          "output_type": "stream",
          "name": "stdout",
          "text": [
            "spam eggs\n",
            "Paris rabbit got your back :)! Yay!\n",
            "1975\n"
          ]
        }
      ]
    },
    {
      "cell_type": "code",
      "source": [
        "print('doesn\\'t')\n",
        "print(\"doesn't\")\n",
        "print('\"Yes,\" they said.')\n",
        "print(\"\\\"Yes,\\\" they said.\")\n",
        "print('\"Isn\\'t,\" they said.')\n"
      ],
      "metadata": {
        "colab": {
          "base_uri": "https://localhost:8080/"
        },
        "id": "7bOnwG0Hx2Uj",
        "outputId": "654d40b3-4b08-47ac-c36c-a716de36c227"
      },
      "execution_count": 18,
      "outputs": [
        {
          "output_type": "stream",
          "name": "stdout",
          "text": [
            "doesn't\n",
            "doesn't\n",
            "\"Yes,\" they said.\n",
            "\"Yes,\" they said.\n",
            "\"Isn't,\" they said.\n"
          ]
        }
      ]
    },
    {
      "cell_type": "code",
      "source": [
        "s = 'First line.\\nSecond line.'\n",
        "print(repr(s))\n",
        "print(s)"
      ],
      "metadata": {
        "colab": {
          "base_uri": "https://localhost:8080/"
        },
        "id": "wDw528elyT8C",
        "outputId": "994687a8-6eef-4263-9668-7d3599ee62b6"
      },
      "execution_count": 19,
      "outputs": [
        {
          "output_type": "stream",
          "name": "stdout",
          "text": [
            "'First line.\\nSecond line.'\n",
            "First line.\n",
            "Second line.\n"
          ]
        }
      ]
    },
    {
      "cell_type": "code",
      "source": [
        "print('C:\\some\\name')\n",
        "print(r'C:\\some\\name')"
      ],
      "metadata": {
        "colab": {
          "base_uri": "https://localhost:8080/"
        },
        "id": "lilAcxLVylEY",
        "outputId": "6082ad7a-65c8-4690-ffcd-58ccab498510"
      },
      "execution_count": 20,
      "outputs": [
        {
          "output_type": "stream",
          "name": "stdout",
          "text": [
            "C:\\some\n",
            "ame\n",
            "C:\\some\\name\n"
          ]
        }
      ]
    },
    {
      "cell_type": "code",
      "source": [
        "print(\"\"\"\\\n",
        "Usage: thingy [OPTIONS]\n",
        "     -h                        Display this usage message\n",
        "     -H hostname               Hostname to connect to\n",
        "\"\"\")\n"
      ],
      "metadata": {
        "colab": {
          "base_uri": "https://localhost:8080/"
        },
        "id": "6ohE-GiWyrZA",
        "outputId": "266a3011-52df-44ed-96b3-8d9cee2cc4ea"
      },
      "execution_count": 21,
      "outputs": [
        {
          "output_type": "stream",
          "name": "stdout",
          "text": [
            "Usage: thingy [OPTIONS]\n",
            "     -h                        Display this usage message\n",
            "     -H hostname               Hostname to connect to\n",
            "\n"
          ]
        }
      ]
    },
    {
      "cell_type": "code",
      "source": [
        "3 * 'un' + 'ium'"
      ],
      "metadata": {
        "colab": {
          "base_uri": "https://localhost:8080/",
          "height": 35
        },
        "id": "RPYUfksbyun0",
        "outputId": "e1eb65ab-c717-4814-bd78-ce6d626ab484"
      },
      "execution_count": 22,
      "outputs": [
        {
          "output_type": "execute_result",
          "data": {
            "text/plain": [
              "'unununium'"
            ],
            "application/vnd.google.colaboratory.intrinsic+json": {
              "type": "string"
            }
          },
          "metadata": {},
          "execution_count": 22
        }
      ]
    },
    {
      "cell_type": "code",
      "source": [
        "'Py' 'thon'"
      ],
      "metadata": {
        "colab": {
          "base_uri": "https://localhost:8080/",
          "height": 35
        },
        "id": "J8v8PgOWyx1p",
        "outputId": "8fe2f332-11fe-4759-d64a-9b648686d7dc"
      },
      "execution_count": 23,
      "outputs": [
        {
          "output_type": "execute_result",
          "data": {
            "text/plain": [
              "'Python'"
            ],
            "application/vnd.google.colaboratory.intrinsic+json": {
              "type": "string"
            }
          },
          "metadata": {},
          "execution_count": 23
        }
      ]
    },
    {
      "cell_type": "code",
      "source": [
        "text = ('Put several strings within parentheses '\n",
        "        'to have them joined together.')\n",
        "text\n"
      ],
      "metadata": {
        "colab": {
          "base_uri": "https://localhost:8080/",
          "height": 35
        },
        "id": "VSK5CIEPy0dg",
        "outputId": "52577035-0391-4e34-e27b-dcb064fbbc0d"
      },
      "execution_count": 24,
      "outputs": [
        {
          "output_type": "execute_result",
          "data": {
            "text/plain": [
              "'Put several strings within parentheses to have them joined together.'"
            ],
            "application/vnd.google.colaboratory.intrinsic+json": {
              "type": "string"
            }
          },
          "metadata": {},
          "execution_count": 24
        }
      ]
    },
    {
      "cell_type": "code",
      "source": [
        "prefix = 'Py'\n",
        "prefix + 'thon'"
      ],
      "metadata": {
        "colab": {
          "base_uri": "https://localhost:8080/",
          "height": 35
        },
        "id": "FHftmV1Sy3A1",
        "outputId": "ca061443-fc00-415d-cd11-5a5bb1811a15"
      },
      "execution_count": 26,
      "outputs": [
        {
          "output_type": "execute_result",
          "data": {
            "text/plain": [
              "'Python'"
            ],
            "application/vnd.google.colaboratory.intrinsic+json": {
              "type": "string"
            }
          },
          "metadata": {},
          "execution_count": 26
        }
      ]
    },
    {
      "cell_type": "code",
      "source": [
        "word = 'Python'\n",
        "print(word[0])\n",
        "print(word[5])\n",
        "print(word[-1])\n",
        "print(word[-2])\n",
        "print(word[-6])\n",
        "print(word[0:2])\n",
        "print(word[2:5])\n",
        "print(word[:2])\n",
        "print(word[4:])\n",
        "print(word[-2:])"
      ],
      "metadata": {
        "colab": {
          "base_uri": "https://localhost:8080/"
        },
        "id": "Gjj0PlEwzDty",
        "outputId": "8917b208-dfd4-4922-9348-78e0f4f95df7"
      },
      "execution_count": 30,
      "outputs": [
        {
          "output_type": "stream",
          "name": "stdout",
          "text": [
            "P\n",
            "n\n",
            "n\n",
            "o\n",
            "P\n",
            "Py\n",
            "tho\n",
            "Py\n",
            "on\n",
            "on\n"
          ]
        }
      ]
    },
    {
      "cell_type": "code",
      "source": [
        "word[:2] + word[2:]\n",
        "word[:4] + word[4:]\n"
      ],
      "metadata": {
        "colab": {
          "base_uri": "https://localhost:8080/",
          "height": 35
        },
        "id": "pyRM6Sy2zNpC",
        "outputId": "9fc56806-b8e4-43f7-d7ec-fc880bb723ce"
      },
      "execution_count": 31,
      "outputs": [
        {
          "output_type": "execute_result",
          "data": {
            "text/plain": [
              "'Python'"
            ],
            "application/vnd.google.colaboratory.intrinsic+json": {
              "type": "string"
            }
          },
          "metadata": {},
          "execution_count": 31
        }
      ]
    },
    {
      "cell_type": "code",
      "source": [
        "# String diferente\n",
        "# String não são mutáveis\n",
        "print('J' + word[1:])\n",
        "print(word[:2] + 'py')\n"
      ],
      "metadata": {
        "colab": {
          "base_uri": "https://localhost:8080/"
        },
        "id": "dK1jZp7U0Xx4",
        "outputId": "a10aab98-2a26-48d6-a7c8-ba37dc52dc0b"
      },
      "execution_count": 35,
      "outputs": [
        {
          "output_type": "stream",
          "name": "stdout",
          "text": [
            "Jython\n",
            "Pypy\n"
          ]
        }
      ]
    },
    {
      "cell_type": "code",
      "source": [
        "s = 'supercalifragilisticexpialidocious'\n",
        "len(s)\n"
      ],
      "metadata": {
        "colab": {
          "base_uri": "https://localhost:8080/"
        },
        "id": "8andHoMA0m3a",
        "outputId": "7c397b46-6c2c-4067-f33d-f84a2437e413"
      },
      "execution_count": 36,
      "outputs": [
        {
          "output_type": "execute_result",
          "data": {
            "text/plain": [
              "34"
            ]
          },
          "metadata": {},
          "execution_count": 36
        }
      ]
    },
    {
      "cell_type": "markdown",
      "source": [
        "# Listas"
      ],
      "metadata": {
        "id": "A056x-pl03sO"
      }
    },
    {
      "cell_type": "code",
      "source": [
        "squares = [1, 4, 9, 16, 25]\n",
        "squares"
      ],
      "metadata": {
        "colab": {
          "base_uri": "https://localhost:8080/"
        },
        "id": "OIp4CzUC09h0",
        "outputId": "0a591bb8-a8ed-4c26-d562-7c0201c79419"
      },
      "execution_count": 40,
      "outputs": [
        {
          "output_type": "execute_result",
          "data": {
            "text/plain": [
              "[1, 4, 9, 16, 25]"
            ]
          },
          "metadata": {},
          "execution_count": 40
        }
      ]
    },
    {
      "cell_type": "code",
      "source": [
        "squares[0]\n",
        "squares[-1]\n",
        "squares[-3:]\n",
        "\n"
      ],
      "metadata": {
        "colab": {
          "base_uri": "https://localhost:8080/"
        },
        "id": "fOhVMC3t1CZL",
        "outputId": "9a72fe95-c916-46a4-874e-9167d09a1c5f"
      },
      "execution_count": 41,
      "outputs": [
        {
          "output_type": "execute_result",
          "data": {
            "text/plain": [
              "[9, 16, 25]"
            ]
          },
          "metadata": {},
          "execution_count": 41
        }
      ]
    },
    {
      "cell_type": "code",
      "source": [
        "result = squares + [36, 49, 64, 81, 100]\n",
        "print(result)\n"
      ],
      "metadata": {
        "colab": {
          "base_uri": "https://localhost:8080/"
        },
        "id": "Vh0H_Fn41I14",
        "outputId": "19087a72-270b-42a3-eb06-bc3523124326"
      },
      "execution_count": 44,
      "outputs": [
        {
          "output_type": "stream",
          "name": "stdout",
          "text": [
            "[1, 4, 9, 16, 25, 36, 49, 64, 81, 100]\n"
          ]
        }
      ]
    },
    {
      "cell_type": "code",
      "source": [
        "# Listas são mutáveis\n",
        "cubes = [1, 8, 27, 65, 125]\n",
        "cubes[3] = 64\n",
        "print(cubes)\n",
        "cubes.append(216)  # add the cube of 6\n",
        "cubes.append(7 ** 3)  # and the cube of 7\n",
        "print(cubes)"
      ],
      "metadata": {
        "colab": {
          "base_uri": "https://localhost:8080/"
        },
        "id": "Ww23-3ok1oHZ",
        "outputId": "893294c8-2375-4dd8-beb7-e2a3c42ac4c9"
      },
      "execution_count": 48,
      "outputs": [
        {
          "output_type": "stream",
          "name": "stdout",
          "text": [
            "[1, 8, 27, 64, 125]\n",
            "[1, 8, 27, 64, 125, 216, 343]\n"
          ]
        }
      ]
    },
    {
      "cell_type": "code",
      "source": [
        "rgb = [\"Red\", \"Green\", \"Blue\"]\n",
        "rgba = rgb\n",
        "print(id(rgb) == id(rgba))\n",
        "rgba.append(\"Alph\")\n",
        "rgb"
      ],
      "metadata": {
        "colab": {
          "base_uri": "https://localhost:8080/"
        },
        "id": "1zmzAreK117a",
        "outputId": "89891c88-bdff-48a2-9bfb-6cf93ce0a8d1"
      },
      "execution_count": 50,
      "outputs": [
        {
          "output_type": "stream",
          "name": "stdout",
          "text": [
            "True\n"
          ]
        },
        {
          "output_type": "execute_result",
          "data": {
            "text/plain": [
              "['Red', 'Green', 'Blue', 'Alph']"
            ]
          },
          "metadata": {},
          "execution_count": 50
        }
      ]
    },
    {
      "cell_type": "code",
      "source": [
        "correct_rgba = rgba[:]\n",
        "correct_rgba[-1] = \"Alpha\"\n",
        "print(correct_rgba)\n",
        "print(rgba)\n"
      ],
      "metadata": {
        "colab": {
          "base_uri": "https://localhost:8080/"
        },
        "id": "bOqWpeju5gwv",
        "outputId": "3ce287ce-fb3f-4343-d482-63d3704ebdb8"
      },
      "execution_count": 52,
      "outputs": [
        {
          "output_type": "stream",
          "name": "stdout",
          "text": [
            "['Red', 'Green', 'Blue', 'Alpha']\n",
            "['Red', 'Green', 'Blue', 'Alph']\n"
          ]
        }
      ]
    },
    {
      "cell_type": "code",
      "source": [
        "letters = ['a', 'b', 'c', 'd', 'e', 'f', 'g']\n",
        "print(letters)\n",
        "letters[2:5] = ['C', 'D', 'E']\n",
        "print(letters)\n",
        "letters[2:5] = []\n",
        "print(letters)\n",
        "letters[:] = []\n",
        "print(letters)\n"
      ],
      "metadata": {
        "colab": {
          "base_uri": "https://localhost:8080/"
        },
        "id": "qLv08hG06B2f",
        "outputId": "548efad7-e79e-4603-c454-a18f0a0bb3c2"
      },
      "execution_count": 53,
      "outputs": [
        {
          "output_type": "stream",
          "name": "stdout",
          "text": [
            "['a', 'b', 'c', 'd', 'e', 'f', 'g']\n",
            "['a', 'b', 'C', 'D', 'E', 'f', 'g']\n",
            "['a', 'b', 'f', 'g']\n",
            "[]\n"
          ]
        }
      ]
    },
    {
      "cell_type": "code",
      "source": [
        "letters = ['a', 'b', 'c', 'd']\n",
        "len(letters)"
      ],
      "metadata": {
        "colab": {
          "base_uri": "https://localhost:8080/"
        },
        "id": "dHZyNBVp6V_2",
        "outputId": "cd30f052-fccb-49aa-f569-b9292b702b63"
      },
      "execution_count": 54,
      "outputs": [
        {
          "output_type": "execute_result",
          "data": {
            "text/plain": [
              "4"
            ]
          },
          "metadata": {},
          "execution_count": 54
        }
      ]
    },
    {
      "cell_type": "code",
      "source": [
        "a = ['a', 'b', 'c']\n",
        "n = [1, 2, 3]\n",
        "x = [a, n]\n",
        "print(x)\n",
        "print(x[0])\n",
        "print(x[0][1])\n",
        "\n"
      ],
      "metadata": {
        "colab": {
          "base_uri": "https://localhost:8080/"
        },
        "id": "EhxE5hAA6aJV",
        "outputId": "00eb0acb-182d-4b85-f72e-41f8bf57388c"
      },
      "execution_count": 55,
      "outputs": [
        {
          "output_type": "stream",
          "name": "stdout",
          "text": [
            "[['a', 'b', 'c'], [1, 2, 3]]\n",
            "['a', 'b', 'c']\n",
            "b\n"
          ]
        }
      ]
    },
    {
      "cell_type": "markdown",
      "source": [
        "# Laços de repetição - While"
      ],
      "metadata": {
        "id": "-HVelmVn6rZ_"
      }
    },
    {
      "cell_type": "code",
      "source": [
        "a, b = 0, 1\n",
        "while a < 10:\n",
        "    print(a)\n",
        "    a, b = b, a+b"
      ],
      "metadata": {
        "colab": {
          "base_uri": "https://localhost:8080/"
        },
        "id": "1TG7841_6oCW",
        "outputId": "85e687bd-fe8b-4566-b0a1-bbd31982ea12"
      },
      "execution_count": 56,
      "outputs": [
        {
          "output_type": "stream",
          "name": "stdout",
          "text": [
            "0\n",
            "1\n",
            "1\n",
            "2\n",
            "3\n",
            "5\n",
            "8\n"
          ]
        }
      ]
    },
    {
      "cell_type": "code",
      "source": [
        "i = 256*256\n",
        "print('O valor é', i)"
      ],
      "metadata": {
        "colab": {
          "base_uri": "https://localhost:8080/"
        },
        "id": "hQjl3ctQ62vD",
        "outputId": "4ce9bc62-3faf-4049-ccc7-235b31283a7c"
      },
      "execution_count": 58,
      "outputs": [
        {
          "output_type": "stream",
          "name": "stdout",
          "text": [
            "O valor é 65536\n"
          ]
        }
      ]
    },
    {
      "cell_type": "code",
      "source": [
        "a, b = 0, 1\n",
        "while a < 1000:\n",
        "     print(a, end=',')\n",
        "     a, b = b, a+b\n"
      ],
      "metadata": {
        "colab": {
          "base_uri": "https://localhost:8080/"
        },
        "id": "1ZohKbpL66m2",
        "outputId": "fce364fe-53d9-4fcf-e61f-4d3a57c77c16"
      },
      "execution_count": 59,
      "outputs": [
        {
          "output_type": "stream",
          "name": "stdout",
          "text": [
            "0,1,1,2,3,5,8,13,21,34,55,89,144,233,377,610,987,"
          ]
        }
      ]
    },
    {
      "cell_type": "markdown",
      "source": [
        "# IF-Else"
      ],
      "metadata": {
        "id": "RyzyeQdZ7DKT"
      }
    },
    {
      "cell_type": "code",
      "source": [
        "x = int(input(\"Por favor, insira um número inteiro: \"))\n",
        "\n",
        "if x < 0:\n",
        "    x = 0\n",
        "    print('Negativo alterado para zero')\n",
        "elif x == 0:\n",
        "    print('Zero')\n",
        "elif x == 1:\n",
        "    print('Um')\n",
        "else:\n",
        "    print('Mais')"
      ],
      "metadata": {
        "colab": {
          "base_uri": "https://localhost:8080/"
        },
        "id": "YGxgsjcF7Biy",
        "outputId": "5f2d40c1-b462-471d-ac5e-2cbc3f64c96f"
      },
      "execution_count": 61,
      "outputs": [
        {
          "output_type": "stream",
          "name": "stdout",
          "text": [
            "Please enter an integer: 23\n",
            "More\n"
          ]
        }
      ]
    },
    {
      "cell_type": "markdown",
      "source": [
        "# FOR"
      ],
      "metadata": {
        "id": "jf0OzSSh7veH"
      }
    },
    {
      "cell_type": "code",
      "source": [
        "palavras = ['gato', 'janela', 'defenestração']\n",
        "for p in palavras:\n",
        "    print(p, len(p))\n"
      ],
      "metadata": {
        "colab": {
          "base_uri": "https://localhost:8080/"
        },
        "id": "DCxRCmGa7v2w",
        "outputId": "a8d9a7ba-7948-459b-d4f2-fefbc3edb6c5"
      },
      "execution_count": 62,
      "outputs": [
        {
          "output_type": "stream",
          "name": "stdout",
          "text": [
            "gato 4\n",
            "janela 6\n",
            "defenestração 13\n"
          ]
        }
      ]
    },
    {
      "cell_type": "code",
      "source": [
        "usuarios = {'Hans': 'ativo', 'Éléonore': 'inativo', '景太郎': 'ativo'}\n",
        "\n",
        "for usuario, status in usuarios.copy().items():\n",
        "    if status == 'inativo':\n",
        "        del usuarios[usuario]\n",
        "\n",
        "usuarios_ativos = {}\n",
        "for usuario, status in usuarios.items():\n",
        "    if status == 'ativo':\n",
        "        usuarios_ativos[usuario] = status\n",
        "\n",
        "print(usuarios_ativos)"
      ],
      "metadata": {
        "colab": {
          "base_uri": "https://localhost:8080/"
        },
        "id": "-MPMIQHZ8EyB",
        "outputId": "f847ef8e-42f1-4906-88b0-2145a7f1f9fa"
      },
      "execution_count": 65,
      "outputs": [
        {
          "output_type": "stream",
          "name": "stdout",
          "text": [
            "{'Hans': 'ativo', '景太郎': 'ativo'}\n"
          ]
        }
      ]
    },
    {
      "cell_type": "code",
      "source": [
        "# Ex-for-1: Imprimir o número em ordem crescente até 50\n",
        "numero = int(input(\"Digite um número: \"))\n",
        "\n",
        "# Imprimir o número em ordem crescente até chegar a 50\n",
        "for i in range(numero, 51):\n",
        "    print(i)"
      ],
      "metadata": {
        "colab": {
          "base_uri": "https://localhost:8080/"
        },
        "id": "eu70yfL38tSc",
        "outputId": "a0a8601e-9c23-4b00-b2f2-678137cbf5e1"
      },
      "execution_count": 64,
      "outputs": [
        {
          "output_type": "stream",
          "name": "stdout",
          "text": [
            "Digite um número: 23\n",
            "23\n",
            "24\n",
            "25\n",
            "26\n",
            "27\n",
            "28\n",
            "29\n",
            "30\n",
            "31\n",
            "32\n",
            "33\n",
            "34\n",
            "35\n",
            "36\n",
            "37\n",
            "38\n",
            "39\n",
            "40\n",
            "41\n",
            "42\n",
            "43\n",
            "44\n",
            "45\n",
            "46\n",
            "47\n",
            "48\n",
            "49\n",
            "50\n"
          ]
        }
      ]
    }
  ]
}