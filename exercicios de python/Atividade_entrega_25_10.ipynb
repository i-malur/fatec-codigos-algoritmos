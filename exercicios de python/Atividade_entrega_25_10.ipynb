{
  "nbformat": 4,
  "nbformat_minor": 0,
  "metadata": {
    "colab": {
      "provenance": [],
      "collapsed_sections": [
        "XLkkdPCbkCa7",
        "IBztcbzPkE8c",
        "NjfazY-7lP9F",
        "EbKoYH_wuWGi",
        "taFbC1dZu6_F",
        "1ZdB3ctKu_3X",
        "XVqasf3BvGSH",
        "k0cFc2SLvzat",
        "aT8osxkBw1sP",
        "72aVSV4X5DME",
        "rFICwjaWB3dk",
        "Vn5cnxbtcQth",
        "0MXyDSXXdtRX",
        "x8jmIMHNe9r9"
      ]
    },
    "kernelspec": {
      "name": "python3",
      "display_name": "Python 3"
    },
    "language_info": {
      "name": "python"
    }
  },
  "cells": [
    {
      "cell_type": "markdown",
      "source": [
        "# Introdutórios"
      ],
      "metadata": {
        "id": "XLkkdPCbkCa7"
      }
    },
    {
      "cell_type": "markdown",
      "source": [
        "### 1. Faça um algoritmo que solicite o nome do usuário e depois escreva o nome da pessoa que foi digitado no console."
      ],
      "metadata": {
        "id": "IBztcbzPkE8c"
      }
    },
    {
      "cell_type": "code",
      "execution_count": null,
      "metadata": {
        "colab": {
          "base_uri": "https://localhost:8080/"
        },
        "id": "6MIuAPCKj-aV",
        "outputId": "dc1803c1-1bc6-4acd-d5a1-eb9926baa4f8"
      },
      "outputs": [
        {
          "output_type": "stream",
          "name": "stdout",
          "text": [
            "Digite seu nome: malu\n",
            "Bem vinda, malu\n"
          ]
        }
      ],
      "source": [
        "nome = input(\"Digite seu nome: \")\n",
        "print(\"Bem vinda,\", nome)\n"
      ]
    },
    {
      "cell_type": "markdown",
      "source": [
        "### 2. Faça um algoritmo que pergunte ao usuário quantos anos ele tem, depois disso, escreva True no console, caso ele já tenha alcançado a maioridade (18 anos), caso contrário escreva False."
      ],
      "metadata": {
        "id": "geikRRDxkixZ"
      }
    },
    {
      "cell_type": "code",
      "source": [
        "idade = int(input(\"Quantos anos você tem? \"))\n",
        "\n",
        "if idade >= 18:\n",
        "    print(\"Maior de idade!\")\n",
        "else:\n",
        "    print(\"Menor de idade!\")"
      ],
      "metadata": {
        "colab": {
          "base_uri": "https://localhost:8080/"
        },
        "id": "GAd2c8ODklvX",
        "outputId": "5c4a5ad5-a5ad-4285-fbc7-1859599e63a9"
      },
      "execution_count": null,
      "outputs": [
        {
          "output_type": "stream",
          "name": "stdout",
          "text": [
            "Quantos anos você tem? 18\n",
            "Maior de idade!\n"
          ]
        }
      ]
    },
    {
      "cell_type": "markdown",
      "source": [
        "### 3. Faça um algoritmo que solicite um número ao usuário, depois disso, escreva True no console, caso o número tenha dois dígitos (Esteja entre 10 e 99), caso contrário escreva"
      ],
      "metadata": {
        "id": "NPCRlLGDkyEB"
      }
    },
    {
      "cell_type": "code",
      "source": [
        "numero = int(input(\"Digite um número: \"))\n",
        "if numero >= 10 and numero <= 99:\n",
        "    print(\"2 números\")\n",
        "elif numero >=100 and numero <=999:\n",
        "    print(\"3 números\")\n",
        "else:\n",
        "    print(\"1 ou mais número(s)\")"
      ],
      "metadata": {
        "colab": {
          "base_uri": "https://localhost:8080/"
        },
        "id": "2b66MOSgk0FF",
        "outputId": "53234dc8-362b-4cad-fbbc-faa1e8d4001e"
      },
      "execution_count": null,
      "outputs": [
        {
          "output_type": "stream",
          "name": "stdout",
          "text": [
            "Digite um número: 1000\n",
            "1 ou mais número(s)\n"
          ]
        }
      ]
    },
    {
      "cell_type": "markdown",
      "source": [
        "# Capítulo 3 - Desvios condicionais, fazendo seu programa tomar decisões!"
      ],
      "metadata": {
        "id": "NjfazY-7lP9F"
      }
    },
    {
      "cell_type": "markdown",
      "source": [
        "### 1. Faça um algoritmo que solicite 3 notas para o usuário, calcule a média e indique se o aluno foi aprovado ou reprovado (nota precisar ser maior ou igual à sete para o aluno ser aprovado)."
      ],
      "metadata": {
        "id": "XIolpfgRlSLQ"
      }
    },
    {
      "cell_type": "code",
      "source": [
        "nota1 = float(input(\"Digite a primeira nota: \"))\n",
        "nota2 = float(input(\"Digite a segunda nota: \"))\n",
        "nota3 = float(input(\"Digite a terceira nota: \"))\n",
        "\n",
        "media = (nota1 + nota2 + nota3) / 3\n",
        "\n",
        "if media >= 7:\n",
        "    resultado = \"Aprovado\"\n",
        "else:\n",
        "    resultado = \"Reprovado\"\n",
        "\n",
        "print(\"Média:\", media)\n",
        "print(\"Resultado:\", resultado)\n"
      ],
      "metadata": {
        "colab": {
          "base_uri": "https://localhost:8080/"
        },
        "id": "NlLKmzVslV7e",
        "outputId": "2d3cce4b-a27b-49c9-8109-0c56d67fa9ba"
      },
      "execution_count": null,
      "outputs": [
        {
          "output_type": "stream",
          "name": "stdout",
          "text": [
            "Digite a primeira nota: 10\n",
            "Digite a segunda nota: 8\n",
            "Digite a terceira nota: 6\n",
            "Média: 8.0\n",
            "Resultado: Aprovado\n"
          ]
        }
      ]
    },
    {
      "cell_type": "markdown",
      "source": [
        "### 2. Faça um algoritmo que solicite o ano que o usuário nasceu, depois disso, faça o programa descrever se o usuário fará ou já fez 18 anos neste ano."
      ],
      "metadata": {
        "id": "K5uFt-uUliwa"
      }
    },
    {
      "cell_type": "code",
      "source": [
        "from datetime import datetime\n",
        "\n",
        "ano_nascimento = int(input(\"Digite o ano que você nasceu: \"))\n",
        "mes_nascimento = int(input(\"Digite o mês que você nasceu (1-12): \"))\n",
        "\n",
        "data_atual = datetime.now()\n",
        "ano_atual = data_atual.year\n",
        "mes_atual = data_atual.month\n",
        "\n",
        "idade = ano_atual - ano_nascimento\n",
        "\n",
        "if idade > 18 or (idade == 18 and mes_atual >= mes_nascimento):\n",
        "    resultado = \"Você já fez 18 anos.\"\n",
        "elif idade == 17 or (idade == 18 and mes_atual < mes_nascimento):\n",
        "    resultado = \"Você fará 18 anos este ano.\"\n",
        "else:\n",
        "    resultado = \"Você não fará 18 anos este ano.\"\n",
        "\n",
        "print(resultado)\n"
      ],
      "metadata": {
        "colab": {
          "base_uri": "https://localhost:8080/"
        },
        "id": "maSl63dglhgo",
        "outputId": "ec76f64d-a736-4de5-b0d8-299e50e13775"
      },
      "execution_count": null,
      "outputs": [
        {
          "output_type": "stream",
          "name": "stdout",
          "text": [
            "Digite o ano que você nasceu: 2006\n",
            "Digite o mês que você nasceu (1-12): 11\n",
            "Você fará 18 anos este ano.\n"
          ]
        }
      ]
    },
    {
      "cell_type": "markdown",
      "source": [
        "Uso do ```from datetime import datetime```\n",
        "\n",
        "---\n",
        "**Módulo datetime**  \n",
        "O módulo datetime fornece classes para manipulação de datas e horas. Ele é uma parte da biblioteca padrão do Python e é amplamente utilizado para trabalhar com informações relacionadas a tempo.    \n",
        "\n",
        "**Classe datetime**  \n",
        "A classe datetime dentro do módulo datetime é uma das mais utilizadas. Ela combina tanto a data (ano, mês, dia) quanto a hora (hora, minuto, segundo, microsegundo) em um único objeto. Isso a torna muito útil para realizar operações que envolvem tanto datas quanto horários.\n",
        "\n",
        "**Uso da Importação**  \n",
        "from datetime import datetime: Com esta instrução, você está importando apenas a classe datetime do módulo datetime, permitindo que você a utilize diretamente no seu código sem precisar escrever datetime.datetime toda vez.\n",
        "\n",
        "\n",
        "---\n",
        "\n",
        "```\n",
        "# Obtém a data e a hora atual\n",
        "data_atual = datetime.now()\n",
        "\n",
        "# Exibe a data e a hora atual\n",
        "print(\"Data e Hora Atual:\", data_atual)\n",
        "```\n"
      ],
      "metadata": {
        "id": "8VSrHbTzoiBL"
      }
    },
    {
      "cell_type": "markdown",
      "source": [
        "### 3. Faça um programa que solicite ao usuário sua idade, depois disso, exiba a classificação etária de acordo com as faixas de valores:\n",
        "\n",
        "· Criança para 0 até 11 anos;\n",
        "\n",
        "· Adolescente para 12 até 18 anos;\n",
        "\n",
        "· Jovem para 19 até 24 anos;\n",
        "\n",
        "· Adulto para 25 até 40 anos;\n",
        "\n",
        "· Meia Idade para 41 até 60 anos;\n",
        "\n",
        "· Idoso acima de 60 anos."
      ],
      "metadata": {
        "id": "gzz1Id_DtEbV"
      }
    },
    {
      "cell_type": "code",
      "source": [
        "idade = int(input(\"Digite sua idade: \"))\n",
        "\n",
        "if 0 <= idade <= 11:\n",
        "    classificacao = \"Criança\"\n",
        "elif 12 <= idade <= 18:\n",
        "    classificacao = \"Adolescente\"\n",
        "elif 19 <= idade <= 24:\n",
        "    classificacao = \"Jovem\"\n",
        "elif 25 <= idade <= 40:\n",
        "    classificacao = \"Adulto\"\n",
        "elif 41 <= idade <= 60:\n",
        "    classificacao = \"Meia Idade\"\n",
        "elif idade > 60:\n",
        "    classificacao = \"Idoso\"\n",
        "else:\n",
        "    classificacao = \"Idade inválida\"\n",
        "\n",
        "print(\"Faixa Etária:\", classificacao)\n"
      ],
      "metadata": {
        "colab": {
          "base_uri": "https://localhost:8080/"
        },
        "id": "fqg1ALlHohnV",
        "outputId": "7e0cdbb1-54c6-4f7f-8be3-9702aa3ace51"
      },
      "execution_count": null,
      "outputs": [
        {
          "output_type": "stream",
          "name": "stdout",
          "text": [
            "Digite sua idade: 28\n",
            "Faixa Etária: Adulto\n"
          ]
        }
      ]
    },
    {
      "cell_type": "markdown",
      "source": [
        "### 4. Faça um programa que solicite ao usuário 2 valores, utilize uma condição ternária para escrever qual o maior valor: o primeiro ou o segundo (caso os valores sejam iguais, considere o segundo)."
      ],
      "metadata": {
        "id": "gOLICbGftjRM"
      }
    },
    {
      "cell_type": "code",
      "source": [
        "valor1 = float(input(\"Digite o primeiro valor: \"))\n",
        "valor2 = float(input(\"Digite o segundo valor: \"))\n",
        "\n",
        "maior_valor = valor2 if valor1 <= valor2 else valor1\n",
        "\n",
        "print(\"O maior valor é:\", maior_valor)\n"
      ],
      "metadata": {
        "colab": {
          "base_uri": "https://localhost:8080/"
        },
        "id": "oGCIHGR_tkoZ",
        "outputId": "83115d6d-5182-4e64-ccee-8af600c22192"
      },
      "execution_count": null,
      "outputs": [
        {
          "output_type": "stream",
          "name": "stdout",
          "text": [
            "Digite o primeiro valor: 20\n",
            "Digite o segundo valor: 15\n",
            "O maior valor é: 20.0\n"
          ]
        }
      ]
    },
    {
      "cell_type": "markdown",
      "source": [
        "Condição ternária ou expressão condicional.\n",
        "\n",
        "Sintaxe: ```variável = valor_se_verdadeiro if condição else valor_se_falso```\n",
        "\n",
        "\n",
        "A condição ternária é uma forma compacta de escrever uma estrutura condicional (if-else) em uma única linha. Ela permite que você atribua valores a uma variável com base em uma condição de forma mais concisa do que usar a estrutura tradicional if-else.\n",
        "\n",
        "---  \n",
        "\n",
        "**Exemplo**\n",
        "```\n",
        "a = 10\n",
        "b = 20\n",
        "\n",
        "maior = a if a > b else b\n",
        "print(maior)  # Saída: 20\n",
        "\n",
        "```\n"
      ],
      "metadata": {
        "id": "_QACmLD9tu7k"
      }
    },
    {
      "cell_type": "markdown",
      "source": [
        "# Capítulo 4 - Valores None, Strings e Introdução à Listas"
      ],
      "metadata": {
        "id": "EbKoYH_wuWGi"
      }
    },
    {
      "cell_type": "markdown",
      "source": [
        "### 1. Faça um programa que solicite o nome do usuário e depois disso faça uma saudação no formato: \"Olá {nome digitado pelo usuário}\"."
      ],
      "metadata": {
        "id": "taFbC1dZu6_F"
      }
    },
    {
      "cell_type": "code",
      "source": [
        "nome = input(\"Digite seu nome: \")\n",
        "print(f\"Olá {nome}!\")"
      ],
      "metadata": {
        "colab": {
          "base_uri": "https://localhost:8080/"
        },
        "id": "YER_J0nhuYIu",
        "outputId": "200f3c81-1fe2-425a-a709-d5e9a0c2badc"
      },
      "execution_count": null,
      "outputs": [
        {
          "output_type": "stream",
          "name": "stdout",
          "text": [
            "Digite seu nome: Matheus\n",
            "Olá Matheus!\n"
          ]
        }
      ]
    },
    {
      "cell_type": "markdown",
      "source": [
        "### 2. Faça um programa que solicite uma mensagem qualquer para o usuário e exiba esta mensagem com todas as letras em maiúsculo."
      ],
      "metadata": {
        "id": "1ZdB3ctKu_3X"
      }
    },
    {
      "cell_type": "code",
      "source": [
        "mensagem = input(\"Digite uma mensagem: \")\n",
        "print(mensagem.upper())"
      ],
      "metadata": {
        "colab": {
          "base_uri": "https://localhost:8080/"
        },
        "id": "eD83UzXku4Zx",
        "outputId": "1e298260-e27b-47a2-e114-185066ef0f3d"
      },
      "execution_count": null,
      "outputs": [
        {
          "output_type": "stream",
          "name": "stdout",
          "text": [
            "Digite uma mensagem: palmeiras\n",
            "PALMEIRAS\n"
          ]
        }
      ]
    },
    {
      "cell_type": "markdown",
      "source": [
        "### 3. Faça um programa que solicite a idade do usuário, verifique se o texto informado só contém números. Caso contenha somente números exiba a mensagem: \"Você tem {idade digitada} anos.\", caso contrário exiba a mensagem: \"Você digitou uma idade inválida\"."
      ],
      "metadata": {
        "id": "XVqasf3BvGSH"
      }
    },
    {
      "cell_type": "code",
      "source": [
        "idade = input(\"Digite sua idade: \")\n",
        "\n",
        "if idade.isdigit():\n",
        "    print(f\"Você tem {idade} anos.\")\n",
        "else:\n",
        "    print(\"Você digitou uma idade inválida.\")"
      ],
      "metadata": {
        "colab": {
          "base_uri": "https://localhost:8080/"
        },
        "id": "Oex7EsaGvImj",
        "outputId": "aa0d50ee-008c-4af1-c946-630df8681d0b"
      },
      "execution_count": null,
      "outputs": [
        {
          "output_type": "stream",
          "name": "stdout",
          "text": [
            "Digite sua idade: maria\n",
            "Você digitou uma idade inválida.\n"
          ]
        }
      ]
    },
    {
      "cell_type": "markdown",
      "source": [
        "```isdigit()```  \n",
        "O método isdigit() em Python é uma função de string que verifica se todos os caracteres em uma string são dígitos (números). Ele retorna True se a string contiver apenas caracteres que são números e False caso contrário.\n",
        "\n",
        "Uso do isdigit():\n",
        "\n",
        "1. **Verificação de Números:** O método é útil para determinar se uma string representa um número inteiro positivo.\n",
        "\n",
        "2. **Retorno:** Retorna True se todos os caracteres da string forem dígitos (0-9).\n",
        "Retorna False se a string estiver vazia ou contiver qualquer caractere que não seja um dígito.\n",
        "\n",
        "Exemplos:\n",
        "```\n",
        "# Exemplo 1: String que contém apenas dígitos\n",
        "idade = \"25\"\n",
        "print(idade.isdigit())  # Saída: True\n",
        "\n",
        "# Exemplo 2: String que contém caracteres não numéricos\n",
        "idade_invalida = \"25 anos\"\n",
        "print(idade_invalida.isdigit())  # Saída: False\n",
        "\n",
        "# Exemplo 3: String vazia\n",
        "string_vazia = \"\"\n",
        "print(string_vazia.isdigit())  # Saída: False\n",
        "\n",
        "# Exemplo 4: String com dígitos e caracteres especiais\n",
        "string_com_caracteres = \"1234!\"\n",
        "print(string_com_caracteres.isdigit())  # Saída: False\n",
        "\n",
        "```\n"
      ],
      "metadata": {
        "id": "gsaz4knmvXoF"
      }
    },
    {
      "cell_type": "markdown",
      "source": [
        "### 4. Faça um programa que solicite o nome completo do usuário e exiba somente o seu segundo nome/primeiro sobrenome."
      ],
      "metadata": {
        "id": "k0cFc2SLvzat"
      }
    },
    {
      "cell_type": "code",
      "source": [
        "nome_completo = input(\"Digite seu nome completo: \")\n",
        "\n",
        "nomes = nome_completo.split()\n",
        "\n",
        "if len(nomes) >= 2:\n",
        "    segundo_nome = nomes[1]\n",
        "    print(\"Seu segundo nome ou primeiro sobrenome é:\", segundo_nome)\n",
        "else:\n",
        "    print(\"Nome completo inválido. Certifique-se de incluir pelo menos um sobrenome.\")\n"
      ],
      "metadata": {
        "colab": {
          "base_uri": "https://localhost:8080/"
        },
        "id": "zuWBwl16vvbF",
        "outputId": "326730f0-ec98-4fb3-f448-4a77326e0e48"
      },
      "execution_count": null,
      "outputs": [
        {
          "output_type": "stream",
          "name": "stdout",
          "text": [
            "Digite seu nome completo: Maria Luiza \n",
            "Seu segundo nome/primeiro sobrenome é: Luiza\n"
          ]
        }
      ]
    },
    {
      "cell_type": "markdown",
      "source": [
        "```.split()```\n",
        "\n",
        "O método .split() em Python é usado para dividir uma string em uma lista de substrings, utilizando um delimitador especificado. Por padrão, o delimitador é um espaço em branco, mas você pode especificar outro caractere ou string como delimitador.\n",
        "\n",
        "Sintaxe: ```string.split(sep=None, maxsplit=-1)```\n",
        "\n",
        "1. sep: O delimitador a ser usado para dividir a string. Se não for especificado, a string será dividida em espaços em branco (incluindo espaços, tabulações e quebras de linha).\n",
        "2. maxsplit: O número máximo de divisões a serem feitas. O padrão é -1, o que significa que não há limite de divisões.\n",
        "\n",
        "Exemplos:\n",
        "\n",
        "```\n",
        "nome = \"Maria Luiza Fernandes\"\n",
        "palavras = nome.split()\n",
        "print(palavras)  # Saída: ['Maria,', 'Luiza', 'Fernandes']\n",
        "\n",
        "data = \"2023-10-25\"\n",
        "partes = data.split(\"-\")\n",
        "print(partes)  # Saída: ['2023', '10', '25']\n",
        "\n",
        "```"
      ],
      "metadata": {
        "id": "jchFAFdhwE9Y"
      }
    },
    {
      "cell_type": "markdown",
      "source": [
        "# Capítulo 5 - Operações com Listas"
      ],
      "metadata": {
        "id": "aT8osxkBw1sP"
      }
    },
    {
      "cell_type": "markdown",
      "source": [
        "## Listas em python\n",
        "\n",
        "Resumo sobre Listas em Python  \n",
        "Definição:\n",
        "* Uma lista é uma coleção ordenada de elementos que pode conter itens de diferentes tipos (números, strings, objetos, etc.).  \n",
        "\n",
        "Características:\n",
        "* Mutáveis: Você pode modificar a lista após sua criação (adicionar, remover ou alterar elementos).\n",
        "* Ordenadas: Os elementos mantêm a ordem em que foram adicionados.\n",
        "* Indexadas: Os elementos podem ser acessados usando índices, começando do zero.\n",
        "\n",
        "Sintaxe: ```lista = [1, 2, 3, \"quatro\", 5.0]```\n",
        "\n",
        "\n",
        "Principais Métodos:\n",
        "\n",
        "1. .append(item): Adiciona um item ao final da lista.\n",
        "2. .insert(index, item): Insere um item em uma posição específica.\n",
        "3. .remove(item): Remove o primeiro item correspondente ao valor especificado.\n",
        "4. .pop(index): Remove e retorna o item na posição especificada (ou o último item se o índice não for fornecido).\n",
        "5. .sort(): Ordena os elementos da lista.\n",
        "6. .reverse(): Inverte a ordem dos elementos.\n",
        "7. .clear(): Remove todos os elementos da lista.\n",
        "8. .extend(iterable): Adiciona elementos de um iterável (como outra lista) à lista existente.\n",
        "\n",
        "## Listas são objetos?\n",
        "Tudo em Python é considerado um objeto, incluindo tipos de dados básicos como inteiros, floats, strings e, claro, listas.\n",
        "\n",
        "Características das Listas como Objetos:  \n",
        "1. Tipo de Objeto: Quando você cria uma lista, está criando uma instância da classe list, que é uma das classes embutidas no Python.\n",
        "2. Métodos: Como objetos, listas possuem métodos que podem ser utilizados para manipulação.\n",
        "\n",
        "Exemplo de lista como objeto\n",
        "```\n",
        "# Criando uma lista\n",
        "frutas = [\"maçã\", \"banana\", \"laranja\"]\n",
        "\n",
        "# Verificando o tipo da lista\n",
        "print(type(frutas))  # Saída: <class 'list'>\n",
        "\n",
        "# Usando métodos de lista\n",
        "frutas.append(\"uva\")\n",
        "print(frutas)  # Saída: ['maçã', 'banana', 'laranja', 'uva']\n",
        "\n",
        "frutas.remove(\"banana\")\n",
        "print(frutas)  # Saída: ['maçã', 'laranja', 'uva']\n",
        "\n",
        "```"
      ],
      "metadata": {
        "id": "OhPZPl0h2ZQL"
      }
    },
    {
      "cell_type": "markdown",
      "source": [
        "### 1. Faça um programa que inicialize uma lista com o nome das pessoas da sua família."
      ],
      "metadata": {
        "id": "6ZtI4rGCxPtI"
      }
    },
    {
      "cell_type": "code",
      "source": [
        "familia = [\"Luiz Henrique\", \"Maria Cleide\", \"Maria Luiza\"]\n",
        "print(\"Nomes da família:\", familia)"
      ],
      "metadata": {
        "colab": {
          "base_uri": "https://localhost:8080/"
        },
        "id": "pX3VUKBtw25H",
        "outputId": "31b32104-be09-4353-f4f9-3cc8a4f6676e"
      },
      "execution_count": null,
      "outputs": [
        {
          "output_type": "stream",
          "name": "stdout",
          "text": [
            "Nomes da família: ['Luiz Henrique', 'Maria Cleide', 'Maria Luiza']\n"
          ]
        }
      ]
    },
    {
      "cell_type": "markdown",
      "source": [
        "### 2. Faça um programa que inicialize uma lista vazia e solicite ao usuário 3 nomes de cidades, um por vez, cada vez que o usuário digitar um nome, o programa deve incluir este nome na lista de cidades."
      ],
      "metadata": {
        "id": "MMnwuweaxbLx"
      }
    },
    {
      "cell_type": "code",
      "source": [
        "cidades = []\n",
        "\n",
        "for i in range(3):\n",
        "    cidade = input(f\"Digite o nome da cidade {i + 1}: \")\n",
        "    cidades.append(cidade)\n",
        "\n",
        "print(\"Cidades:\", cidades)\n"
      ],
      "metadata": {
        "colab": {
          "base_uri": "https://localhost:8080/"
        },
        "id": "6-x5PwdAxaJi",
        "outputId": "9b9be3cb-25be-407c-e0f1-8af8fd4bd36e"
      },
      "execution_count": null,
      "outputs": [
        {
          "output_type": "stream",
          "name": "stdout",
          "text": [
            "Digite o nome da cidade 1: São Paulo\n",
            "Digite o nome da cidade 2: Santos\n",
            "Digite o nome da cidade 3: São Luis\n",
            "Cidades: ['São Paulo', 'Santos', 'São Luis']\n"
          ]
        }
      ]
    },
    {
      "cell_type": "markdown",
      "source": [
        "### 3. Faça um programa que inicialize uma lista com vários números diferentes, depois disso, solicite ao usuário um número, verifique se o número está ou não na lista e exiba uma mensagem notificando o usuário do resultado."
      ],
      "metadata": {
        "id": "8EXR3B_Hxm7Y"
      }
    },
    {
      "cell_type": "code",
      "source": [
        "numeros = [1, 3, 5, 7, 9, 11, 13]\n",
        "numero = int(input(\"Digite um número: \"))\n",
        "\n",
        "if numero in numeros:\n",
        "    print(f\"O número {numero} está na lista.\")\n",
        "else:\n",
        "    print(f\"O número {numero} não está na lista.\")\n"
      ],
      "metadata": {
        "colab": {
          "base_uri": "https://localhost:8080/"
        },
        "id": "bsdO_7U6xs5m",
        "outputId": "420a745f-a968-41db-b7e7-86e993969650"
      },
      "execution_count": null,
      "outputs": [
        {
          "output_type": "stream",
          "name": "stdout",
          "text": [
            "Digite um número: 230\n",
            "O número 230 não está na lista.\n"
          ]
        }
      ]
    },
    {
      "cell_type": "markdown",
      "source": [
        "### 4. Faça um programa que inicialize uma lista vazia e a preencha com 5 nomes diferentes digitados pelo usuário, depois disso solicite um número de 0 até 4 e remova o elemento desta posição."
      ],
      "metadata": {
        "id": "MSyfQXxxy2E9"
      }
    },
    {
      "cell_type": "code",
      "source": [
        "nomes = []\n",
        "\n",
        "for i in range(5):\n",
        "    nome = input(f\"Digite o nome {i + 1}: \")\n",
        "    nomes.append(nome)\n",
        "\n",
        "indice = int(input(\"\\nDigite um número de 0 a 4 para remover o nome dessa posição: \"))\n",
        "\n",
        "if 0 <= indice < len(nomes):\n",
        "    removed_nome = nomes.pop(indice)\n",
        "    print(f\"O nome '{removed_nome}' foi removido.\")\n",
        "else:\n",
        "    print(\"Índice inválido.\")\n",
        "\n",
        "print(\"\\nNomes restantes:\", nomes)\n"
      ],
      "metadata": {
        "colab": {
          "base_uri": "https://localhost:8080/"
        },
        "id": "QFA1Z-e5y1Ax",
        "outputId": "52456ab3-70c9-4f73-9d44-cee41c7b9baa"
      },
      "execution_count": null,
      "outputs": [
        {
          "output_type": "stream",
          "name": "stdout",
          "text": [
            "Digite o nome 1: maria\n",
            "Digite o nome 2: luiza\n",
            "Digite o nome 3: fernandes\n",
            "Digite o nome 4: de\n",
            "Digite o nome 5: queiroz\n",
            "\n",
            "Digite um número de 0 a 4 para remover o nome dessa posição: 3\n",
            "O nome 'de' foi removido.\n",
            "\n",
            "Nomes restantes: ['maria', 'luiza', 'fernandes', 'queiroz']\n"
          ]
        }
      ]
    },
    {
      "cell_type": "markdown",
      "source": [
        "```for()```  \n",
        "O for é uma estrutura de repetição que permite iterar sobre elementos de uma sequência (como listas, tuplas, strings) ou sobre um intervalo de números.\n",
        "\n",
        "Exemplo:\n",
        "```\n",
        "# Iterando sobre uma lista\n",
        "frutas = [\"maçã\", \"banana\", \"laranja\"]\n",
        "for fruta in frutas:\n",
        "    print(fruta)\n",
        "```\n",
        "\n",
        "\n",
        "\n",
        "---\n",
        "```range()```  \n",
        "A função range() gera uma sequência de números, que pode ser usada para controlar o número de iterações em um loop for. Ela pode receber até três argumentos: ***start, stop e step***.\n",
        "\n",
        "* start: O valor inicial da sequência (inclusivo, padrão é 0).  \n",
        "* stop: O valor final da sequência (exclusivo).  \n",
        "* step: O incremento entre os números na sequência (padrão é 1).\n",
        "\n",
        "Exemplos:\n",
        "```\n",
        "# Usando range() para imprimir números de 0 a 4\n",
        "for i in range(5):\n",
        "    print(i)  # Saída: 0, 1, 2, 3, 4\n",
        "\n",
        "```\n",
        "```\n",
        "# Usando range() com start e step\n",
        "for i in range(1, 10, 2):\n",
        "    print(i)  # Saída: 1, 3, 5, 7, 9\n",
        "\n",
        "```\n",
        "\n",
        "---\n",
        "\n",
        "```len()```  \n",
        "A função len() retorna o número de itens em um objeto. É comumente usada para determinar o tamanho de listas, strings, tuplas e outros contêineres.\n",
        "\n",
        "Exemplos:\n",
        "```\n",
        "# Usando len() para contar o número de elementos em uma lista\n",
        "nomes = [\"Victória\", \"Melanie\", \"Jackie\"]\n",
        "print(len(nomes))  # Saída: 3\n",
        "\n",
        "# Usando len() em uma string\n",
        "texto = \"Olá, mundo!\"\n",
        "print(len(texto))  # Saída: 12\n",
        "\n",
        "```\n",
        "\n",
        "```\n",
        "# Inicializa uma lista\n",
        "refrigerantes = [\"coca-cola\", \"fanta\", \"dolly\"]\n",
        "\n",
        "# Usa for e range para iterar sobre os índices da lista\n",
        "for i in range(len(refrigerantes)):\n",
        "    print(f\"Refrigerantes {i + 1}: {refrigerantes[i]}\")\n",
        "\n",
        "```"
      ],
      "metadata": {
        "id": "3u2qWmpW0rgA"
      }
    },
    {
      "cell_type": "markdown",
      "source": [
        "# Capítulo 6 - Laços de Repetição - Parte 1"
      ],
      "metadata": {
        "id": "72aVSV4X5DME"
      }
    },
    {
      "cell_type": "markdown",
      "source": [
        "### 1. Faça um programa que inicialize uma lista de compras com 5 itens diferentes e exiba todos utilizando um laço de repetição."
      ],
      "metadata": {
        "id": "00oBSBkrAj0d"
      }
    },
    {
      "cell_type": "code",
      "source": [
        "lista_de_compras = [\"arroz\", \"detergente\", \"pão\", \"ovos\", \"candida\"]\n",
        "\n",
        "print(\"Lista de Compras:\")\n",
        "for item in lista_de_compras:\n",
        "    print(item)\n"
      ],
      "metadata": {
        "colab": {
          "base_uri": "https://localhost:8080/"
        },
        "id": "K7bfMpDy5Fmx",
        "outputId": "1ec35211-30da-4d2c-fa0e-cd39234930a7"
      },
      "execution_count": null,
      "outputs": [
        {
          "output_type": "stream",
          "name": "stdout",
          "text": [
            "Lista de Compras:\n",
            "arroz\n",
            "detergente\n",
            "pão\n",
            "ovos\n",
            "candida\n"
          ]
        }
      ]
    },
    {
      "cell_type": "markdown",
      "source": [
        "### 2. Faça um programa que inicialize que crie uma lista com os valores de 1 até 10 e depois exiba apenas os números pares."
      ],
      "metadata": {
        "id": "PopS-tPNAupZ"
      }
    },
    {
      "cell_type": "code",
      "source": [
        "numeros = list(range(1, 11))\n",
        "\n",
        "print(\"Números pares de 1 a 10:\")\n",
        "for numero in numeros:\n",
        "    if numero % 2 == 0:\n",
        "        print(numero)\n"
      ],
      "metadata": {
        "colab": {
          "base_uri": "https://localhost:8080/"
        },
        "id": "N3ya0RZ-AyVC",
        "outputId": "c277224a-8785-4ac6-ecd9-140cbe74de5c"
      },
      "execution_count": null,
      "outputs": [
        {
          "output_type": "stream",
          "name": "stdout",
          "text": [
            "Números pares de 1 a 10:\n",
            "2\n",
            "4\n",
            "6\n",
            "8\n",
            "10\n"
          ]
        }
      ]
    },
    {
      "cell_type": "markdown",
      "source": [
        "### 3. Faça um programa que exiba todos os valores ímpares entre 50 e 100 utilizando o range."
      ],
      "metadata": {
        "id": "Fy4KB9-1A50d"
      }
    },
    {
      "cell_type": "code",
      "source": [
        "print(\"Números ímpares entre 50 e 100:\")\n",
        "for i in range(51, 101, 2):  # Começa em 51 e vai até 100, pulando de 2 em 2\n",
        "    print(i)"
      ],
      "metadata": {
        "colab": {
          "base_uri": "https://localhost:8080/"
        },
        "id": "Xk6Dm0lSA5fQ",
        "outputId": "fa92db3c-b065-48db-dcc3-6344e0b1b62f"
      },
      "execution_count": null,
      "outputs": [
        {
          "output_type": "stream",
          "name": "stdout",
          "text": [
            "Números ímpares entre 50 e 100:\n",
            "51\n",
            "53\n",
            "55\n",
            "57\n",
            "59\n",
            "61\n",
            "63\n",
            "65\n",
            "67\n",
            "69\n",
            "71\n",
            "73\n",
            "75\n",
            "77\n",
            "79\n",
            "81\n",
            "83\n",
            "85\n",
            "87\n",
            "89\n",
            "91\n",
            "93\n",
            "95\n",
            "97\n",
            "99\n"
          ]
        }
      ]
    },
    {
      "cell_type": "markdown",
      "source": [
        "### 4. Faça um programa que inicialize uma lista vazia, solicite ao usuário 10 números diferentes, um por vez. Caso o número digitado seja par, acrescente um ao seu valor. Depois disso, exiba os 10 números digitados."
      ],
      "metadata": {
        "id": "8_bfUjIPBDmq"
      }
    },
    {
      "cell_type": "code",
      "source": [
        "numeros_digitados = []\n",
        "\n",
        "for _ in range(10):\n",
        "    numero = int(input(\"Digite um número: \"))\n",
        "\n",
        "    if numero % 2 == 0:\n",
        "        numero += 1\n",
        "    numeros_digitados.append(numero)\n",
        "\n",
        "print(\"Números digitados:\")\n",
        "for num in numeros_digitados:\n",
        "    print(num)\n"
      ],
      "metadata": {
        "colab": {
          "base_uri": "https://localhost:8080/"
        },
        "id": "QjyqnL9GA-_N",
        "outputId": "100da26b-5631-42e9-acda-6591b7f32fd0"
      },
      "execution_count": null,
      "outputs": [
        {
          "output_type": "stream",
          "name": "stdout",
          "text": [
            "Digite um número: 2\n",
            "Digite um número: 4\n",
            "Digite um número: 6\n",
            "Digite um número: 8\n",
            "Digite um número: 10\n",
            "Digite um número: 12\n",
            "Digite um número: 14\n",
            "Digite um número: 16\n",
            "Digite um número: 23\n",
            "Digite um número: 25\n",
            "Números digitados:\n",
            "3\n",
            "5\n",
            "7\n",
            "9\n",
            "11\n",
            "13\n",
            "15\n",
            "17\n",
            "23\n",
            "25\n"
          ]
        }
      ]
    },
    {
      "cell_type": "markdown",
      "source": [
        "### 5. Faça um programa que exiba as tabuadas de 1 até 10 no formato: \"2 x 3 = 6\", (utilize dois comandos for)"
      ],
      "metadata": {
        "id": "BZpk1aQDBbMN"
      }
    },
    {
      "cell_type": "code",
      "source": [
        "print(\"Tabuadas de 1 a 10:\")\n",
        "for i in range(1, 11):\n",
        "    for mult in range(1, 11):\n",
        "        resultado = i * mult\n",
        "        print(f\"{i} x {mult} = {resultado}\")\n",
        "    print('--------------------------------')\n"
      ],
      "metadata": {
        "colab": {
          "base_uri": "https://localhost:8080/"
        },
        "id": "78ear2E1BfG0",
        "outputId": "363c6490-e350-4279-c532-d985e5221a1f"
      },
      "execution_count": null,
      "outputs": [
        {
          "output_type": "stream",
          "name": "stdout",
          "text": [
            "Tabuadas de 1 a 10:\n",
            "1 x 1 = 1\n",
            "1 x 2 = 2\n",
            "1 x 3 = 3\n",
            "1 x 4 = 4\n",
            "1 x 5 = 5\n",
            "1 x 6 = 6\n",
            "1 x 7 = 7\n",
            "1 x 8 = 8\n",
            "1 x 9 = 9\n",
            "1 x 10 = 10\n",
            "--------------------------------\n",
            "2 x 1 = 2\n",
            "2 x 2 = 4\n",
            "2 x 3 = 6\n",
            "2 x 4 = 8\n",
            "2 x 5 = 10\n",
            "2 x 6 = 12\n",
            "2 x 7 = 14\n",
            "2 x 8 = 16\n",
            "2 x 9 = 18\n",
            "2 x 10 = 20\n",
            "--------------------------------\n",
            "3 x 1 = 3\n",
            "3 x 2 = 6\n",
            "3 x 3 = 9\n",
            "3 x 4 = 12\n",
            "3 x 5 = 15\n",
            "3 x 6 = 18\n",
            "3 x 7 = 21\n",
            "3 x 8 = 24\n",
            "3 x 9 = 27\n",
            "3 x 10 = 30\n",
            "--------------------------------\n",
            "4 x 1 = 4\n",
            "4 x 2 = 8\n",
            "4 x 3 = 12\n",
            "4 x 4 = 16\n",
            "4 x 5 = 20\n",
            "4 x 6 = 24\n",
            "4 x 7 = 28\n",
            "4 x 8 = 32\n",
            "4 x 9 = 36\n",
            "4 x 10 = 40\n",
            "--------------------------------\n",
            "5 x 1 = 5\n",
            "5 x 2 = 10\n",
            "5 x 3 = 15\n",
            "5 x 4 = 20\n",
            "5 x 5 = 25\n",
            "5 x 6 = 30\n",
            "5 x 7 = 35\n",
            "5 x 8 = 40\n",
            "5 x 9 = 45\n",
            "5 x 10 = 50\n",
            "--------------------------------\n",
            "6 x 1 = 6\n",
            "6 x 2 = 12\n",
            "6 x 3 = 18\n",
            "6 x 4 = 24\n",
            "6 x 5 = 30\n",
            "6 x 6 = 36\n",
            "6 x 7 = 42\n",
            "6 x 8 = 48\n",
            "6 x 9 = 54\n",
            "6 x 10 = 60\n",
            "--------------------------------\n",
            "7 x 1 = 7\n",
            "7 x 2 = 14\n",
            "7 x 3 = 21\n",
            "7 x 4 = 28\n",
            "7 x 5 = 35\n",
            "7 x 6 = 42\n",
            "7 x 7 = 49\n",
            "7 x 8 = 56\n",
            "7 x 9 = 63\n",
            "7 x 10 = 70\n",
            "--------------------------------\n",
            "8 x 1 = 8\n",
            "8 x 2 = 16\n",
            "8 x 3 = 24\n",
            "8 x 4 = 32\n",
            "8 x 5 = 40\n",
            "8 x 6 = 48\n",
            "8 x 7 = 56\n",
            "8 x 8 = 64\n",
            "8 x 9 = 72\n",
            "8 x 10 = 80\n",
            "--------------------------------\n",
            "9 x 1 = 9\n",
            "9 x 2 = 18\n",
            "9 x 3 = 27\n",
            "9 x 4 = 36\n",
            "9 x 5 = 45\n",
            "9 x 6 = 54\n",
            "9 x 7 = 63\n",
            "9 x 8 = 72\n",
            "9 x 9 = 81\n",
            "9 x 10 = 90\n",
            "--------------------------------\n",
            "10 x 1 = 10\n",
            "10 x 2 = 20\n",
            "10 x 3 = 30\n",
            "10 x 4 = 40\n",
            "10 x 5 = 50\n",
            "10 x 6 = 60\n",
            "10 x 7 = 70\n",
            "10 x 8 = 80\n",
            "10 x 9 = 90\n",
            "10 x 10 = 100\n",
            "--------------------------------\n"
          ]
        }
      ]
    },
    {
      "cell_type": "markdown",
      "source": [
        "# Capítulo 7 - Laços de Repetição - Parte 2"
      ],
      "metadata": {
        "id": "rFICwjaWB3dk"
      }
    },
    {
      "cell_type": "markdown",
      "source": [
        "### 1. Faça um programa que inicialize uma lista de compras com 5 itens diferentes e exiba todos utilizando um laço de repetição while."
      ],
      "metadata": {
        "id": "euVNxf1aEeFo"
      }
    },
    {
      "cell_type": "code",
      "source": [
        "lista_de_compras = [\"maçã\", \"bucha para louça\", \"pão\", \"ovos\", \"detergente\"]\n",
        "\n",
        "indice = 0\n",
        "print(\"Lista de Compras:\")\n",
        "while indice < len(lista_de_compras):\n",
        "    print(lista_de_compras[indice])\n",
        "    indice += 1\n"
      ],
      "metadata": {
        "colab": {
          "base_uri": "https://localhost:8080/"
        },
        "id": "ZjcYBEA2B4gc",
        "outputId": "7ad0b6e9-1023-4a89-b304-d1a276a53cda"
      },
      "execution_count": null,
      "outputs": [
        {
          "output_type": "stream",
          "name": "stdout",
          "text": [
            "Lista de Compras:\n",
            "maçã\n",
            "bucha para louça\n",
            "pão\n",
            "ovos\n",
            "detergente\n"
          ]
        }
      ]
    },
    {
      "cell_type": "markdown",
      "source": [
        "### 2. Faça um programa que inicialize uma lista com os valores de 1 até 10 e depois exiba apenas os números pares utilizando while."
      ],
      "metadata": {
        "id": "MPJ23hHjEovf"
      }
    },
    {
      "cell_type": "code",
      "source": [
        "numeros = list(range(1, 11))\n",
        "\n",
        "indice = 0\n",
        "print(\"Números pares de 1 a 10:\")\n",
        "while indice < len(numeros):\n",
        "    if numeros[indice] % 2 == 0:\n",
        "        print(numeros[indice])\n",
        "    indice += 1\n"
      ],
      "metadata": {
        "colab": {
          "base_uri": "https://localhost:8080/"
        },
        "id": "eOgXCItYEs_j",
        "outputId": "7b90e7be-2a5d-4bd2-e09f-9411f6d6cbaf"
      },
      "execution_count": null,
      "outputs": [
        {
          "output_type": "stream",
          "name": "stdout",
          "text": [
            "Números pares de 1 a 10:\n",
            "2\n",
            "4\n",
            "6\n",
            "8\n",
            "10\n"
          ]
        }
      ]
    },
    {
      "cell_type": "markdown",
      "source": [
        "### 3. Faça um programa que inicialize uma lista vazia, solicite ao usuário 10 números ímpares diferentes, um por vez. Caso o número digitado seja par, solicite novamente um número, até que o valor seja um número ímpar. Depois disso, exiba os 10 números digitados."
      ],
      "metadata": {
        "id": "7Cg8CpAFErFJ"
      }
    },
    {
      "cell_type": "code",
      "source": [
        "numeros_digitados = []\n",
        "quantidade = 10\n",
        "\n",
        "while len(numeros_digitados) < quantidade:\n",
        "    numero = int(input(\"Digite um número ímpar: \"))\n",
        "    if numero % 2 != 0 and numero not in numeros_digitados:\n",
        "        numeros_digitados.append(numero)\n",
        "    else:\n",
        "        print(\"Número inválido. Certifique-se de que é ímpar e diferente dos já digitados.\")\n",
        "\n",
        "print(\"\\nNúmeros ímpares digitados:\")\n",
        "for num in numeros_digitados:\n",
        "    print(num)\n"
      ],
      "metadata": {
        "colab": {
          "base_uri": "https://localhost:8080/"
        },
        "id": "62DMazhHEv7F",
        "outputId": "0b977346-a6ca-4174-aeb2-5f933464e2ae"
      },
      "execution_count": null,
      "outputs": [
        {
          "output_type": "stream",
          "name": "stdout",
          "text": [
            "Digite um número ímpar: 5\n",
            "Digite um número ímpar: 5\n",
            "Número inválido. Certifique-se de que é ímpar e diferente dos já digitados.\n",
            "Digite um número ímpar: 3\n",
            "Digite um número ímpar: 1\n",
            "Digite um número ímpar: 89\n",
            "Digite um número ímpar: 9\n",
            "Digite um número ímpar: 7\n",
            "Digite um número ímpar: 77\n",
            "Digite um número ímpar: 75\n",
            "Digite um número ímpar: 73\n",
            "Digite um número ímpar: 71\n",
            "Números ímpares digitados:\n",
            "5\n",
            "3\n",
            "1\n",
            "89\n",
            "9\n",
            "7\n",
            "77\n",
            "75\n",
            "73\n",
            "71\n"
          ]
        }
      ]
    },
    {
      "cell_type": "code",
      "source": [
        "def exibir_menu():\n",
        "    print(\"Selecione uma das opções:\")\n",
        "    print(\"1 - Olá mundo\")\n",
        "    print(\"2 - Eu programo em Python\")\n",
        "    print(\"3 - Laços de repetição\")\n",
        "\n",
        "while True:\n",
        "    exibir_menu()\n",
        "    escolha = input(\"Digite sua escolha (1, 2 ou 3) ou 's' para sair: \")\n",
        "\n",
        "    if escolha == '1':\n",
        "        print(\"Olá mundo\")\n",
        "    elif escolha == '2':\n",
        "        print(\"Eu programo em Python\")\n",
        "    elif escolha == '3':\n",
        "        print(\"Laços de repetição\")\n",
        "    elif escolha.lower() == 's':\n",
        "        print(\"Saindo do programa...\")\n",
        "        break\n",
        "    else:\n",
        "        print(\"Escolha inválida. Tente novamente.\")\n"
      ],
      "metadata": {
        "colab": {
          "base_uri": "https://localhost:8080/"
        },
        "id": "GSoFSXfcFzEw",
        "outputId": "d5f5194a-bf6a-4d39-f648-54fba2a5597e"
      },
      "execution_count": null,
      "outputs": [
        {
          "output_type": "stream",
          "name": "stdout",
          "text": [
            "Selecione uma das opções:\n",
            "1 - Olá mundo\n",
            "2 - Eu programo em Python\n",
            "3 - Laços de repetição\n",
            "Digite sua escolha (1, 2 ou 3) ou 's' para sair: 1\n",
            "Olá mundo\n",
            "Selecione uma das opções:\n",
            "1 - Olá mundo\n",
            "2 - Eu programo em Python\n",
            "3 - Laços de repetição\n",
            "Digite sua escolha (1, 2 ou 3) ou 's' para sair: 2\n",
            "Eu programo em Python\n",
            "Selecione uma das opções:\n",
            "1 - Olá mundo\n",
            "2 - Eu programo em Python\n",
            "3 - Laços de repetição\n",
            "Digite sua escolha (1, 2 ou 3) ou 's' para sair: 3\n",
            "Laços de repetição\n",
            "Selecione uma das opções:\n",
            "1 - Olá mundo\n",
            "2 - Eu programo em Python\n",
            "3 - Laços de repetição\n",
            "Digite sua escolha (1, 2 ou 3) ou 's' para sair: s\n",
            "Saindo do programa...\n"
          ]
        }
      ]
    },
    {
      "cell_type": "markdown",
      "source": [
        "### 5. Remove a instrução break e a instrução continue do laço de repetição abaixo:\n",
        "\n",
        "```\n",
        "numeros = [1, 2, 3, 4, 5, 6, 7, 8, 9, 10]\n",
        "posicao = 0\n",
        "while posicao < len(numeros):\n",
        "  posicao += 1\n",
        "  if posicao == 3:\n",
        "    continue\n",
        "\n",
        "  elif posicao == 6:\n",
        "    break\n",
        "  print(numeros[posicao-1])\n",
        "  numeros = [1, 2, 3, 4, 5, 6, 7, 8, 9, 10]\n",
        "  posicao = 0\n",
        "\n",
        "while posicao < 5:\n",
        "  if posicao != 2:\n",
        "    print(numeros[posicao])\n",
        "  posicao += 1\n",
        "```"
      ],
      "metadata": {
        "id": "5IQt1s3pbzvn"
      }
    },
    {
      "cell_type": "code",
      "source": [
        "numeros = [1, 2, 3, 4, 5, 6, 7, 8, 9, 10]\n",
        "\n",
        "posicao = 0\n",
        "\n",
        "while posicao < len(numeros):\n",
        "    posicao += 1\n",
        "    if posicao != 3:\n",
        "        print(numeros[posicao - 1])\n",
        "posicao = 0\n",
        "\n",
        "while posicao < 5:\n",
        "    if posicao != 2:\n",
        "        print(numeros[posicao])\n",
        "    posicao += 1\n"
      ],
      "metadata": {
        "colab": {
          "base_uri": "https://localhost:8080/"
        },
        "id": "9a31zFsacGh_",
        "outputId": "e541d540-9081-46f8-cae9-fbc24ece46e8"
      },
      "execution_count": null,
      "outputs": [
        {
          "output_type": "stream",
          "name": "stdout",
          "text": [
            "1\n",
            "2\n",
            "4\n",
            "5\n",
            "6\n",
            "7\n",
            "8\n",
            "9\n",
            "10\n",
            "1\n",
            "2\n",
            "4\n",
            "5\n"
          ]
        }
      ]
    },
    {
      "cell_type": "markdown",
      "source": [
        "### Funções no python\n",
        "\n",
        "Uma função é um bloco de código reutilizável que realiza uma tarefa específica. As funções ajudam a organizar o código, tornando-o mais legível e modular.\n",
        "\n",
        "Vantagens de Usar Funções:\n",
        "\n",
        "1. Reutilização: Funções podem ser chamadas várias vezes, evitando a duplicação de código.\n",
        "2. Organização: Facilita a estruturação do código em partes lógicas.\n",
        "3. Manutenção: Modificações podem ser feitas em um único lugar, impactando todas as chamadas da função.\n",
        "4. Abstração: Permite que o usuário use uma funcionalidade sem entender sua implementação interna.  \n",
        "\n",
        "Definindo uma Função: Para definir uma função em Python, usa-se a palavra-chave ```def()```, seguida do nome da função e parênteses.\n",
        "\n",
        "Sintaxe:\n",
        "```\n",
        "def nome_da_funcao(parametros):\n",
        "    # corpo da função\n",
        "    return resultado  # opcional\n",
        "```\n",
        "\n",
        "Exemplo:\n",
        "```\n",
        "def soma(a, b):\n",
        "    return a + b\n",
        "\n",
        "resultado = soma(5, 3)\n",
        "print(resultado)  # Saída: 8\n",
        "\n",
        "```\n",
        "\n",
        "Parâmetros e Argumentos:\n",
        "\n",
        "* Parâmetros: Variáveis listadas entre parênteses na definição da função.\n",
        "* Argumentos: Valores passados para a função quando ela é chamada.\n",
        "\n",
        "Tipos de parâmetros:\n",
        "1. Parâmetros Padrão: Permitem definir um valor padrão se nenhum argumento for fornecido.\n",
        "```\n",
        "def saudacao(nome=\"Visitante\"):\n",
        "    print(f\"Olá, {nome}!\")\n",
        "```\n",
        "\n",
        "2. Parâmetros Opcionais: Permitem que o usuário passe quantos argumentos quiser usando *args*.\n",
        "3. Parâmetros Nomeados: Permitem passar argumentos por nome, facilitando a leitura.\n",
        "\n",
        "Retornando Valores: Uma função pode retornar um valor usando a palavra-chave *return*. Se não houver um return, a função retorna *None*.\n",
        "\n",
        "Exemplo de Função com Vários Parâmetros:\n",
        "```\n",
        "def multiplicar(a, b=2):\n",
        "    return a * b\n",
        "\n",
        "print(multiplicar(5))  # Saída: 10\n",
        "print(multiplicar(5, 3))  # Saída: 15\n",
        "```\n",
        "\n",
        "Funções Anônimas (Lambda): As funções lambda são funções pequenas e rápidas, definidas com a palavra-chave *lambda*. Elas são frequentemente usadas quando você precisa de uma função para uma única operação.\n",
        "\n",
        "```\n",
        "soma = lambda x, y: x + y\n",
        "print(soma(5, 3))  # Saída: 8\n",
        "```"
      ],
      "metadata": {
        "id": "dxwCYmkeapWl"
      }
    },
    {
      "cell_type": "markdown",
      "source": [
        "# Capítulo 8 - Use Dicionários!"
      ],
      "metadata": {
        "id": "Vn5cnxbtcQth"
      }
    },
    {
      "cell_type": "markdown",
      "source": [
        "### 1. Faça um programa que crie um dicionário para definir um produto, contendo sua descrição e seu preço."
      ],
      "metadata": {
        "id": "GPwUNvnXcT3_"
      }
    },
    {
      "cell_type": "code",
      "source": [
        "produto = {\n",
        "  \"descrição\": \"Água\",\n",
        "  \"preço\": 2.00\n",
        "}\n",
        "\n",
        "print(produto)"
      ],
      "metadata": {
        "colab": {
          "base_uri": "https://localhost:8080/"
        },
        "id": "th33yWIGcZNB",
        "outputId": "8af71fa7-974e-42a1-b0b4-b95f8545f59a"
      },
      "execution_count": null,
      "outputs": [
        {
          "output_type": "stream",
          "name": "stdout",
          "text": [
            "{'descrição': 'Água', 'preço': 2.0}\n"
          ]
        }
      ]
    },
    {
      "cell_type": "markdown",
      "source": [
        "2. Faça um programa que inicialize uma lista de compras com 5 itens diferentes, onde cada item é um dicionário contendo a descrição e preço do produto. Depois disso, percorra a lista e exiba as informações de cada item."
      ],
      "metadata": {
        "id": "QX6kOwYicjlB"
      }
    },
    {
      "cell_type": "code",
      "source": [
        "lista_compras = [\n",
        "    {\"descrição\": \"Água\", \"preço\": 2.00},\n",
        "    {\"descrição\": \"Leite\", \"preço\": 3.00},\n",
        "    {\"descrição\": \"Carne\", \"preço\": 18.00},\n",
        "    {\"descrição\": \"Pizza\", \"preço\": 9.00},\n",
        "    {\"descrição\": \"Chocolate\", \"preço\": 6.50}\n",
        "]\n",
        "\n",
        "for item_compra in lista_compras:\n",
        "    print(\"Produto:\", item_compra[\"descrição\"], \"por\", str(item_compra[\"preço\"]), \"reais.\")"
      ],
      "metadata": {
        "colab": {
          "base_uri": "https://localhost:8080/"
        },
        "id": "VXdF6Os3cirD",
        "outputId": "f67b0152-103e-4408-c96e-60f6ca26d20a"
      },
      "execution_count": null,
      "outputs": [
        {
          "output_type": "stream",
          "name": "stdout",
          "text": [
            "Produto: Água por 2.0 reais.\n",
            "Produto: Leite por 3.0 reais.\n",
            "Produto: Carne por 18.0 reais.\n",
            "Produto: Pizza por 9.0 reais.\n",
            "Produto: Chocolate por 6.5 reais.\n"
          ]
        }
      ]
    },
    {
      "cell_type": "markdown",
      "source": [
        "### 3. Utilize a lista de compras do programa anterior para identificar qual o produto mais barato e qual o produto mais caro da lista de compras."
      ],
      "metadata": {
        "id": "sOXpt0Sac_wE"
      }
    },
    {
      "cell_type": "code",
      "source": [
        "# Lista de compras já carregada na célula de código anterior\n",
        "mais_barato = None\n",
        "mais_caro = None\n",
        "indice = 0\n",
        "\n",
        "while indice < len(lista_compras):\n",
        "    item_compra = lista_compras[indice]\n",
        "\n",
        "    if indice == 0:\n",
        "        mais_caro = item_compra\n",
        "        mais_barato = item_compra\n",
        "    else:\n",
        "        if item_compra[\"preço\"] > mais_caro[\"preço\"]:\n",
        "            mais_caro = item_compra\n",
        "        if item_compra[\"preço\"] < mais_barato[\"preço\"]:\n",
        "            mais_barato = item_compra\n",
        "\n",
        "    indice += 1\n",
        "\n",
        "print(\"Produto mais caro:\", mais_caro[\"descrição\"], \"por\", mais_caro[\"preço\"], \"reais\")\n",
        "print(\"Produto mais barato:\", mais_barato[\"descrição\"], \"por\", mais_barato[\"preço\"], \"reais\")"
      ],
      "metadata": {
        "colab": {
          "base_uri": "https://localhost:8080/"
        },
        "id": "lsZDQpygdCT-",
        "outputId": "e6addfa1-a356-490e-8d30-a1ed8b4b8d40"
      },
      "execution_count": null,
      "outputs": [
        {
          "output_type": "stream",
          "name": "stdout",
          "text": [
            "Produto mais caro: Carne por 18.0 reais\n",
            "Produto mais barato: Água por 2.0 reais\n"
          ]
        }
      ]
    },
    {
      "cell_type": "markdown",
      "source": [
        "### 4. Faça um programa que tenha uma lista com 5 de pessoas, onde cada pessoa tem seu nome e sobrenome armazenado em um dicionário, depois disso, exiba todos os nomes e sobrenomes. Para complicar um pouco as coisas, vamos simular que estes dados foram obtidos da web e com isso recebemos algumas inconsistências. Duas das cinco pessoas possuem o dicionário onde as chaves estão em maiúsculo e os outros três em minúsculo."
      ],
      "metadata": {
        "id": "GO9mvuABdhxY"
      }
    },
    {
      "cell_type": "code",
      "source": [
        "pessoas = [\n",
        "    {\"nome\": \"Joãozinho\", \"sobrenome\": \"da Silva\"},\n",
        "    {\"nome\": \"Mariazinha\", \"SOBRENOME\": \"de Souza\"},\n",
        "    {\"nome\": \"Gabriel\", \"sobrenome\": \"Schade\"},\n",
        "    {\"nome\": \"Joana\", \"SOBRENOME\": \"da Silva\"},\n",
        "    {\"nome\": \"Everton\", \"sobrenome\": \"Schmit\"},\n",
        "]\n",
        "\n",
        "\n",
        "for pessoa in pessoas:\n",
        "    nome = pessoa.get(\"nome\") or pessoa.get(\"NOME\")\n",
        "    sobrenome = pessoa.get(\"sobrenome\") or pessoa.get(\"SOBRENOME\")\n",
        "\n",
        "    print(nome, sobrenome)\n"
      ],
      "metadata": {
        "colab": {
          "base_uri": "https://localhost:8080/"
        },
        "id": "XceX_CIbdhEv",
        "outputId": "5dd7ab5c-c3c0-4b1c-8f05-180a12bb3cd6"
      },
      "execution_count": null,
      "outputs": [
        {
          "output_type": "stream",
          "name": "stdout",
          "text": [
            "Joãozinho da Silva\n",
            "Mariazinha de Souza\n",
            "Gabriel Schade\n",
            "Joana da Silva\n",
            "Everton Schmit\n"
          ]
        }
      ]
    },
    {
      "cell_type": "markdown",
      "source": [
        "# Capítulo 9 - Modularização de código com Funções!"
      ],
      "metadata": {
        "id": "0MXyDSXXdtRX"
      }
    },
    {
      "cell_type": "markdown",
      "source": [
        "### 1. Faça um programa que escreva \"Minha primeira função\", esta escrita deve ser realizada a partir da chamada de uma função."
      ],
      "metadata": {
        "id": "fOm2SKerd3wG"
      }
    },
    {
      "cell_type": "code",
      "source": [
        "def minha_primeira_função():\n",
        "    print(\"Minha primeira função - por Maria Luiza\")\n",
        "\n",
        "minha_primeira_função()"
      ],
      "metadata": {
        "colab": {
          "base_uri": "https://localhost:8080/"
        },
        "id": "W8WSy-sCdrNO",
        "outputId": "d946ee51-9e2e-4e8d-a9e3-386d3db2534c"
      },
      "execution_count": null,
      "outputs": [
        {
          "output_type": "stream",
          "name": "stdout",
          "text": [
            "Minha primeira função - por Maria Luiza\n"
          ]
        }
      ]
    },
    {
      "cell_type": "markdown",
      "source": [
        "### 2. Faça um programa que solicite o nome do usuário e a idade do usuário, depois disso exiba a mensagem: \"{nome} possui {idade} anos.\". Esta mensagem deve ser escrita em uma função."
      ],
      "metadata": {
        "id": "gXZubK7_d_a3"
      }
    },
    {
      "cell_type": "code",
      "source": [
        "def escrever_nome_idade(nome, idade):\n",
        "  print(nome, \"possui\", idade, \"anos.\")\n",
        "\n",
        "nome_digitado = str(input(\"Digite seu nome: \"))\n",
        "idade_digitada = int(input(\"Digite sua idade: \"))\n",
        "\n",
        "escrever_nome_idade(nome_digitado, idade_digitada)"
      ],
      "metadata": {
        "colab": {
          "base_uri": "https://localhost:8080/"
        },
        "id": "tJ1qr2ced7nK",
        "outputId": "acdbd53b-57d1-4e2f-be03-622a507be84a"
      },
      "execution_count": null,
      "outputs": [
        {
          "output_type": "stream",
          "name": "stdout",
          "text": [
            "Digite seu nome: malu\n",
            "Digite sua idade: 18\n",
            "malu possui 18 anos.\n"
          ]
        }
      ]
    },
    {
      "cell_type": "markdown",
      "source": [
        "### 3. Faça um programa que solicite dois números ao usuário e exiba a multiplicação deles. A multiplicação deve ser calculada em uma função"
      ],
      "metadata": {
        "id": "d26dtnPYeIqi"
      }
    },
    {
      "cell_type": "code",
      "source": [
        "def multiplicar(numero1, numero2):\n",
        "  return numero1 * numero2\n",
        "\n",
        "numero = int(input(\"Digite o primeiro número: \"))\n",
        "numero2 = int(input(\"Digite o segundo número: \"))\n",
        "resultado = multiplicar(numero, numero2)\n",
        "\n",
        "print(resultado)"
      ],
      "metadata": {
        "colab": {
          "base_uri": "https://localhost:8080/"
        },
        "id": "eqJ9j3rCeMVh",
        "outputId": "0672badd-d0cb-485e-8ef4-aee42a46bc44"
      },
      "execution_count": null,
      "outputs": [
        {
          "output_type": "stream",
          "name": "stdout",
          "text": [
            "Digite o primeiro número: 10\n",
            "Digite o segundo número: 5\n",
            "50\n"
          ]
        }
      ]
    },
    {
      "cell_type": "markdown",
      "source": [
        "### 4. Faça um programa que solicite ao usuário três números diferentes e exiba o dobro do maior número. Para fazer isso separe seu código em duas funções diferentes: Uma função para retornar o maior dos três números e outra função para dobrar o número."
      ],
      "metadata": {
        "id": "HD26e7sseRPv"
      }
    },
    {
      "cell_type": "code",
      "source": [
        "def obter_maior(numero, numero2, numero3):\n",
        "  maior = None\n",
        "  if numero > numero2 and numero > numero3:\n",
        "    maior = numero\n",
        "  elif numero2 > numero and numero2 > numero3:\n",
        "    maior = numero2\n",
        "  else:\n",
        "    maior = numero3\n",
        "  return maior\n",
        "\n",
        "def dobrar(numero):\n",
        "  return numero * 2\n",
        "\n",
        "numero = int(input(\"Digite o primeiro número: \"))\n",
        "numero2 = int(input(\"Digite o segundo número: \"))\n",
        "numero3 = int(input(\"Digite o terceiro número: \"))\n",
        "\n",
        "maior = obter_maior(numero, numero2, numero3)\n",
        "\n",
        "print(dobrar(maior))"
      ],
      "metadata": {
        "colab": {
          "base_uri": "https://localhost:8080/"
        },
        "id": "TZ4LFFINeVjY",
        "outputId": "f8bae1e9-70fb-4fba-9267-0b5a0547cfdb"
      },
      "execution_count": null,
      "outputs": [
        {
          "output_type": "stream",
          "name": "stdout",
          "text": [
            "Digite o primeiro número: 5\n",
            "Digite o segundo número: 6\n",
            "Digite o terceiro número: 7\n",
            "14\n"
          ]
        }
      ]
    },
    {
      "cell_type": "markdown",
      "source": [
        "### 5. Faça um programa que inicialize uma lista vazia, depois disso solicite 5 nomes diferentes ao usuário (utilize laço de repetição). Cada nome digitado deve ser adicionado à lista e por fim, todos os nomes devem ser escritos no console. Utilize uma função para solicitar e retornar o nome digitado, uma função para adicionar o nome à lista (passando o nome e a lista por parâmetro) e outra função para escrever todos os nomes no console."
      ],
      "metadata": {
        "id": "aIQEd4GQeTs6"
      }
    },
    {
      "cell_type": "code",
      "source": [
        "def solicitar_nome():\n",
        "  return str (input(\"Digite um nome: \") )\n",
        "\n",
        "def adicionar_nome_na_lista(lista, nome):\n",
        "  lista.append(nome)\n",
        "\n",
        "def escrever_nomes(lista):\n",
        "  for nome in lista:\n",
        "    print(nome)\n",
        "\n",
        "nomes = []\n",
        "\n",
        "for contador in range(0,5):\n",
        "  nome = solicitar_nome()\n",
        "  adicionar_nome_na_lista(nomes, nome)\n",
        "\n",
        "escrever_nomes(nomes)"
      ],
      "metadata": {
        "colab": {
          "base_uri": "https://localhost:8080/"
        },
        "id": "IfZiud8TevdC",
        "outputId": "300654a0-8932-4784-98cf-54398b1fbf94"
      },
      "execution_count": null,
      "outputs": [
        {
          "output_type": "stream",
          "name": "stdout",
          "text": [
            "Digite um nome: maria\n",
            "Digite um nome: matheus\n",
            "Digite um nome: murilo\n",
            "Digite um nome: larissa\n",
            "Digite um nome: giovanna\n",
            "maria\n",
            "matheus\n",
            "murilo\n",
            "larissa\n",
            "giovanna\n"
          ]
        }
      ]
    },
    {
      "cell_type": "markdown",
      "source": [
        "# Capítulo 10 - Funções Lambda"
      ],
      "metadata": {
        "id": "x8jmIMHNe9r9"
      }
    },
    {
      "cell_type": "markdown",
      "source": [
        "### 1. Faça um programa que escreva \"Minha primeira função\", esta escrita deve ser realizada a partir da chamada de uma função que foi declarada como uma expressão lambda."
      ],
      "metadata": {
        "id": "iKvHDlC4fBu4"
      }
    },
    {
      "cell_type": "code",
      "source": [
        "minha_funcao = lambda:print(\"Minha primeira função lambda - por Maria Luiza\")\n",
        "minha_funcao()"
      ],
      "metadata": {
        "colab": {
          "base_uri": "https://localhost:8080/"
        },
        "id": "MMgYpZhifARx",
        "outputId": "24affd14-76d3-44da-a464-d9bce13d4bc5"
      },
      "execution_count": null,
      "outputs": [
        {
          "output_type": "stream",
          "name": "stdout",
          "text": [
            "Minha primeira função lambda - por Maria Luiza\n"
          ]
        }
      ]
    },
    {
      "cell_type": "markdown",
      "source": [
        "### 2. Faça um programa que solicite o nome do usuário e a idade do usuário, depois disso exiba a mensagem: \"{nome} possui {idade} anos.\". Esta mensagem deve ser escrita em uma função lambda."
      ],
      "metadata": {
        "id": "TixYtapefH8-"
      }
    },
    {
      "cell_type": "code",
      "source": [
        "escrever_nome_idade = lambda nome, idade: print(nome, \"possui\", idade, \"anos.\")\n",
        "\n",
        "nome_digitado = str(input(\"Digite seu nome: \"))\n",
        "idade_digitada = int(input(\"Digite sua idade: \"))\n",
        "\n",
        "escrever_nome_idade(nome_digitado, idade_digitada)"
      ],
      "metadata": {
        "colab": {
          "base_uri": "https://localhost:8080/"
        },
        "id": "_kORjQ6gfHUo",
        "outputId": "35fd9731-3fc1-432e-d6a9-2e0d97bf5c10"
      },
      "execution_count": null,
      "outputs": [
        {
          "output_type": "stream",
          "name": "stdout",
          "text": [
            "Digite seu nome: maria\n",
            "Digite sua idade: 18\n",
            "maria possui 18 anos.\n"
          ]
        }
      ]
    },
    {
      "cell_type": "markdown",
      "source": [
        "### 3. Faça um programa que solicite dois números ao usuário e exiba a multiplicação deles. A multiplicação deve ser calculada em uma função lambda."
      ],
      "metadata": {
        "id": "AqHLd6pxffAm"
      }
    },
    {
      "cell_type": "code",
      "source": [
        "multiplicar = lambda numero1, numero2: numero1 * numero2\n",
        "\n",
        "numero = int(input(\"Digite o primeiro número: \"))\n",
        "numero2 = int(input(\"Digite o segundo número: \"))\n",
        "resultado = multiplicar(numero, numero2)\n",
        "\n",
        "print(resultado)"
      ],
      "metadata": {
        "colab": {
          "base_uri": "https://localhost:8080/"
        },
        "id": "8qlJSb3nfg2E",
        "outputId": "e8e7942e-62ea-4777-8583-2ea94e88bcc4"
      },
      "execution_count": null,
      "outputs": [
        {
          "output_type": "stream",
          "name": "stdout",
          "text": [
            "Digite o primeiro número: 10\n",
            "Digite o segundo número: 2\n",
            "20\n"
          ]
        }
      ]
    },
    {
      "cell_type": "markdown",
      "source": [
        "### 4. Faça um programa que solicite cinco números ao usuário, depois disso, exiba apenas os números maiores do que 10. Utilize a função filter para fazer isso."
      ],
      "metadata": {
        "id": "L9102oJjflPh"
      }
    },
    {
      "cell_type": "code",
      "source": [
        "numeros = []\n",
        "\n",
        "for indice in range(1,5):\n",
        "  numero = int(input(\"Digite um número: \"))\n",
        "  numeros.append(numero)\n",
        "\n",
        "maiores = filter(lambda numero: numero > 10, numeros)\n",
        "\n",
        "for maior in maiores:\n",
        "  print(maior)"
      ],
      "metadata": {
        "colab": {
          "base_uri": "https://localhost:8080/"
        },
        "id": "XkX8pQnOfnD3",
        "outputId": "cbf3d3b0-76c1-4563-d460-0105d20df8e4"
      },
      "execution_count": null,
      "outputs": [
        {
          "output_type": "stream",
          "name": "stdout",
          "text": [
            "Digite um número: 10\n",
            "Digite um número: 2\n",
            "Digite um número: 5\n",
            "Digite um número: 99\n",
            "99\n"
          ]
        }
      ]
    },
    {
      "cell_type": "markdown",
      "source": [
        "### 5. Faça um programa que solicite dez números ao usuário, depois disso, exiba todos números pares e só então exiba todos os números ímpares. Utilize a função filter para fazer isso."
      ],
      "metadata": {
        "id": "1xODI7zRf3W5"
      }
    },
    {
      "cell_type": "code",
      "source": [
        "def escrever_array(array):\n",
        "  for valor in array:\n",
        "    print(valor)\n",
        "\n",
        "numeros = []\n",
        "\n",
        "for indice in range(1,10):\n",
        "  numero = int(input(\"Digite um número: \"))\n",
        "  numeros.append(numero)\n",
        "\n",
        "pares = filter(lambda numero: numero % 2 == 0, numeros)\n",
        "impares = filter(lambda numero: numero % 2 == 1, numeros)\n",
        "\n",
        "escrever_array(pares)\n",
        "escrever_array(impares)"
      ],
      "metadata": {
        "colab": {
          "base_uri": "https://localhost:8080/"
        },
        "id": "xo5s2eX-f5Z9",
        "outputId": "794fe041-9a55-46a1-93b9-f32630274e37"
      },
      "execution_count": null,
      "outputs": [
        {
          "output_type": "stream",
          "name": "stdout",
          "text": [
            "Digite um número: 5\n",
            "Digite um número: 3\n",
            "Digite um número: 7\n",
            "Digite um número: 8\n",
            "Digite um número: 10\n",
            "Digite um número: 2\n",
            "Digite um número: 3\n",
            "Digite um número: 4\n",
            "Digite um número: 88\n",
            "8\n",
            "10\n",
            "2\n",
            "4\n",
            "88\n",
            "5\n",
            "3\n",
            "7\n",
            "3\n"
          ]
        }
      ]
    },
    {
      "cell_type": "markdown",
      "source": [
        "# Outros exercícios"
      ],
      "metadata": {
        "id": "vDMAusXfgiH3"
      }
    },
    {
      "cell_type": "markdown",
      "source": [
        "14) Utilizando listas faça um programa que faça 5 perguntas para uma pessoa sobre um crime. As perguntas são:\n",
        "\n",
        "a. \"Telefonou para a vítima?\"\n",
        "\n",
        "b. \"Esteve no local do crime?\"\n",
        "\n",
        "c. \"Mora perto da vítima?\"\n",
        "\n",
        "d. \"Devia para a vítima?\"\n",
        "\n",
        "e. \"Já trabalhou com a vítima?\"\n",
        "\n",
        "O programa deve no final emitir uma classificação sobre a participação da pessoa no crime. Se a pessoa responder positivamente a 2 questões ela deve ser classificada como \"Suspeita\", entre 3 e 4 como \"Cúmplice\" e 5 como \"Assassino\". Caso contrário, ele será classificado como \"Inocente\"."
      ],
      "metadata": {
        "id": "-aMn8zCRgp2G"
      }
    },
    {
      "cell_type": "code",
      "source": [
        "perguntas = [\n",
        "    \"Telefonou para a vítima? (s/n) \",\n",
        "    \"Esteve no local do crime? (s/n) \",\n",
        "    \"Mora perto da vítima? (s/n) \",\n",
        "    \"Devia para a vítima? (s/n) \",\n",
        "    \"Já trabalhou com a vítima? (s/n) \"\n",
        "]\n",
        "\n",
        "respostas_positivas = 0\n",
        "\n",
        "for pergunta in perguntas:\n",
        "    resposta = input(pergunta).strip().lower()\n",
        "    if resposta == 's':\n",
        "        respostas_positivas += 1\n",
        "\n",
        "if respostas_positivas == 0:\n",
        "    classificacao = \"Inocente\"\n",
        "elif respostas_positivas == 2:\n",
        "    classificacao = \"Suspeita\"\n",
        "elif 3 <= respostas_positivas <= 4:\n",
        "    classificacao = \"Cúmplice\"\n",
        "elif respostas_positivas == 5:\n",
        "    classificacao = \"Assassino\"\n",
        "\n",
        "print(\"Classificação:\", classificacao)\n"
      ],
      "metadata": {
        "colab": {
          "base_uri": "https://localhost:8080/"
        },
        "id": "1A2TSQsEgmwZ",
        "outputId": "24fb83e2-7af3-460a-ffa2-469a19fb4f58"
      },
      "execution_count": null,
      "outputs": [
        {
          "output_type": "stream",
          "name": "stdout",
          "text": [
            "Telefonou para a vítima? (s/n) n\n",
            "Esteve no local do crime? (s/n) n\n",
            "Mora perto da vítima? (s/n) s\n",
            "Devia para a vítima? (s/n) n\n",
            "Já trabalhou com a vítima? (s/n) s\n",
            "Classificação: Suspeita\n"
          ]
        }
      ]
    },
    {
      "cell_type": "markdown",
      "source": [
        "![image.png](data:image/png;base64,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)\n"
      ],
      "metadata": {
        "id": "JODpOO4AhBt6"
      }
    },
    {
      "cell_type": "code",
      "source": [
        "def calcular_salario(vendas):\n",
        "    salario_fixo = 200\n",
        "    comissao = 0.09\n",
        "    salario_total = salario_fixo + vendas * comissao\n",
        "    return salario_total\n",
        "\n",
        "def classificar_vendedores(salarios):\n",
        "    faixas_salariais = [0] * 10\n",
        "    for salario in salarios:\n",
        "        if salario < 200:\n",
        "            continue\n",
        "        elif salario < 1000:\n",
        "            indice = int((salario - 200) // 100)\n",
        "            faixas_salariais[indice] += 1\n",
        "        else:\n",
        "            faixas_salariais[9] += 1\n",
        "    return faixas_salariais\n",
        "\n",
        "vendas_semanais = [3000, 2500, 4200, 1800, 5500]\n",
        "salarios = [calcular_salario(vendas) for vendas in vendas_semanais]\n",
        "contagem_por_faixa = classificar_vendedores(salarios)\n",
        "\n",
        "for i, contagem in enumerate(contagem_por_faixa):\n",
        "    if i < 9:\n",
        "        faixa = f\"${200 + i*100}-${299 + i*100}\"\n",
        "    else:\n",
        "        faixa = \"$1000 em diante\"\n",
        "    print(f\"Vendedores na faixa {faixa}: {contagem}\")\n"
      ],
      "metadata": {
        "colab": {
          "base_uri": "https://localhost:8080/"
        },
        "id": "A3-b2SkLhAeX",
        "outputId": "3d80c257-ac94-49f8-b06e-fa5bc73d0bf7"
      },
      "execution_count": null,
      "outputs": [
        {
          "output_type": "stream",
          "name": "stdout",
          "text": [
            "Vendedores na faixa $200-$299: 0\n",
            "Vendedores na faixa $300-$399: 1\n",
            "Vendedores na faixa $400-$499: 2\n",
            "Vendedores na faixa $500-$599: 1\n",
            "Vendedores na faixa $600-$699: 1\n",
            "Vendedores na faixa $700-$799: 0\n",
            "Vendedores na faixa $800-$899: 0\n",
            "Vendedores na faixa $900-$999: 0\n",
            "Vendedores na faixa $1000-$1099: 0\n",
            "Vendedores na faixa $1000 em diante: 0\n"
          ]
        }
      ]
    },
    {
      "cell_type": "markdown",
      "source": [
        "1. Faça um programa que inicialize uma lista de compras com 5 itens diferentes e exiba todos utilizando um laço de repetição.\n",
        "\n",
        "2. Faça um programa que inicialize que crie uma lista com os valores de 1 até 10 e depois exiba apenas os números pares.\n",
        "\n",
        "3. Faça um programa que exiba todos os valores ímpares entre 50 e 100 utilizando o range."
      ],
      "metadata": {
        "id": "BDo6RHN9kUkL"
      }
    },
    {
      "cell_type": "code",
      "source": [
        "# 1\n",
        "lista_compras = [\"Arroz\", \"Feijão\", \"Macarrão\", \"Óleo\", \"Açúcar\"]\n",
        "\n",
        "print(\"Itens da lista de compras:\")\n",
        "for item in lista_compras:\n",
        "    print(item)\n",
        "\n"
      ],
      "metadata": {
        "colab": {
          "base_uri": "https://localhost:8080/"
        },
        "id": "HtNBldY3iskT",
        "outputId": "a5f62ec4-f659-466a-c28c-df55732be516"
      },
      "execution_count": null,
      "outputs": [
        {
          "output_type": "stream",
          "name": "stdout",
          "text": [
            "Itens da lista de compras:\n",
            "Arroz\n",
            "Feijão\n",
            "Macarrão\n",
            "Óleo\n",
            "Açúcar\n"
          ]
        }
      ]
    },
    {
      "cell_type": "code",
      "source": [
        "numeros = list(range(1, 11))\n",
        "\n",
        "print(\"Números pares entre 1 e 10:\")\n",
        "for numero in numeros:\n",
        "    if numero % 2 == 0:\n",
        "        print(numero)\n"
      ],
      "metadata": {
        "colab": {
          "base_uri": "https://localhost:8080/"
        },
        "id": "DXEY0aV6kbYJ",
        "outputId": "55321fd3-6cf4-479b-bffa-a1022521f34e"
      },
      "execution_count": null,
      "outputs": [
        {
          "output_type": "stream",
          "name": "stdout",
          "text": [
            "Números pares entre 1 e 10:\n",
            "2\n",
            "4\n",
            "6\n",
            "8\n",
            "10\n"
          ]
        }
      ]
    },
    {
      "cell_type": "code",
      "source": [
        "print(\"Valores ímpares entre 50 e 100:\")\n",
        "for numero in range(51, 100, 2):\n",
        "    print(numero)\n"
      ],
      "metadata": {
        "colab": {
          "base_uri": "https://localhost:8080/"
        },
        "id": "WNmHjGAMkec2",
        "outputId": "76e1aafc-b532-4e2f-e8d2-5d429759544a"
      },
      "execution_count": null,
      "outputs": [
        {
          "output_type": "stream",
          "name": "stdout",
          "text": [
            "Valores ímpares entre 50 e 100:\n",
            "51\n",
            "53\n",
            "55\n",
            "57\n",
            "59\n",
            "61\n",
            "63\n",
            "65\n",
            "67\n",
            "69\n",
            "71\n",
            "73\n",
            "75\n",
            "77\n",
            "79\n",
            "81\n",
            "83\n",
            "85\n",
            "87\n",
            "89\n",
            "91\n",
            "93\n",
            "95\n",
            "97\n",
            "99\n"
          ]
        }
      ]
    },
    {
      "cell_type": "markdown",
      "source": [
        "2- Entrar com o nome e salário de um funcionário. Sabendo-se que o índice de reajuste é de 8 %. Calcular o novo salário. Imprimir Nome, o salário e o novo salário. Pergunte se deseja fazer novos cálculos. Se a resposta for não, encerrar o programa. Se for sim começar novamente pedindo nome e fazendo novos cálculos.\n",
        "\n",
        "3-Crie um programa que leia o preço de compra e o preço de venda de 10 mercadorias. Para cada mercadoria verificar imprimir se houve lucro e se o lucro foi maior que 15%. Acumule o valor total de mercadorias compradas.\n",
        "\n",
        "4-Dado um número secreto adotado inteiro = 98. O usuário deverá digitar um número até acertar o número secreto. Enquanto a pessoa não acertar, o programa ficara em loop. Se a pessoa não acertou, emita uma mensagem de aviso. Quando a pessoa acertar emita uma mensagem dando parabéns ao usuário.\n",
        "\n",
        "5-Uma transportadora utiliza caminhões que suportam até 10 toneladas de peso, as caixas transportadas tem tamanho fixo e o caminhão comporta no máximo 200 volumes, assim, esta transportadora precisa controlar a quantidade e o peso dos volumes para acomodar nos caminhões. Faça um programa que leia n caixas e seu peso, ao final, o programa deve imprimir a quantidade de volumes, o peso total dos volumes e o peso médio dos volumes.\n",
        "\n",
        "6-Num frigorífico existem 90 bois. Cada boi traz preso em seu pescoço um cartão contendo seu número de identificação e seu peso. Faça um programa que imprima a identificação e o peso do boi mais gordo e do boi mais magro (supondo que não haja empates).\n",
        "\n",
        "Dica:\n",
        "\n",
        "No exemplo dos bois, o exercício pede que sejam lidos 90 bois, desta forma, é possível utilizar o for, pois sabe-se previamente que são 90, pede também que seja obtido e impresso o boi mais magro e o boi mais gordo, assim, trata-se de um caso de obter o mínimo e o máximo. Além disso, o exercício pede que seja impresso a identificação e o peso, seja ele do mais magro ou do mais gordo.\n",
        "\n",
        "No inicio em VAR são as declarações das variáveis, note que, declarou-se a variável idBoi para ler a identificação do boi e peso Boi para ler o peso do boi, essas duas variáveis é que irão armazenar temporariamente os dados de cada um dos 90 bois. Declarou-se também as variáveis: idBoiGordo e boiGordo para registrar os dados do boi mais gordo e idBoiMagro e boiMagro para registrar os dados do boi mais magro, essas são as variáveis chave da resolução do exercício. 68 Aula 3. Estruturas de Iteração A linha 8 do código proposto inicia o laço for, entre as linhas 9 e 12 é feita a leitura dos dados do boi da iteração atual. O ponto chave para resolver o exercício está entre as linhas 14 e 21, veja que para obter o boi mais gordo foi necessário inicializar a variável na linha 6 e foi realizada a validação do peso do boi lido com o boi registrado, pesoBoi > b A variável boiGordo foi inicializada com zero, assumindo que não exista nenhum boi com peso menor ou igual a zero, então é possível concluir que qualquer peso de boi informado será superior a zero, então na primeira leitura o peso do primeiro boi lido irá substituir o valor da inicialização. Nas iterações seguintes, o peso do novo boi lido só irá substituir o peso e identificação registrados, caso esse novo peso seja maior que o atual, assim, ao fim das iterações o peso do boi mais gordo será registrado na variável boiGordo e a sua respectiva identificação na variável idBoiGordo. O mesmo procedimento é aplicado para o boi magro, foram realizadas apenas duas mudanças, uma é o sinal do operador relacional que passou de maior (>) para menor.\n",
        "\n",
        "7- Faça um programa que leia vários números inteiros e apresente o fatorial de cada número. O algoritmo encerra quando se digita um número menor do que 1.\n",
        "\n",
        "8- Uma pesquisa de opinião realizada no Rio de Janeiro, teve as seguintes perguntas:\n",
        "• Qual o seu time de coração?\n",
        "  1-Fluminense;\n",
        "  2-Botafogo;\n",
        "  3-Vasco;\n",
        "  4-Flamengo;\n",
        "  5-Outros\n",
        "• Onde você mora?\n",
        "  1-RJ;\n",
        "  2-Niterói;\n",
        "  3-Outros\n",
        "• Qual o seu salário?\n",
        "Faça um programa que imprima:\n",
        "  • o número de torcedores por clube;\n",
        "  • a média salarial dos torcedores do Botafogo;\n",
        "  • o número de pessoas moradoras do Rio de Janeiro, torcedores de outros clubes;\n",
        "  • o número de pessoas de Niterói torcedoras do Fluminense."
      ],
      "metadata": {
        "id": "U11dOmwekm-N"
      }
    },
    {
      "cell_type": "code",
      "source": [
        "# 2\n",
        "while True:\n",
        "    nome = input(\"Digite o nome do funcionário: \")\n",
        "    salario = float(input(\"Digite o salário do funcionário: \"))\n",
        "\n",
        "    reajuste = 0.08\n",
        "    novo_salario = salario * (1 + reajuste)\n",
        "\n",
        "    print(f\"Nome: {nome}\")\n",
        "    print(f\"Salário: R${salario:.2f}\")\n",
        "    print(f\"Novo Salário: R${novo_salario:.2f}\")\n",
        "\n",
        "    continuar = input(\"Deseja fazer novos cálculos? (sim/não): \").strip().lower()\n",
        "    if continuar != 'sim':\n",
        "        break"
      ],
      "metadata": {
        "colab": {
          "base_uri": "https://localhost:8080/"
        },
        "id": "pxAzaZkSk4-i",
        "outputId": "2c1c9d63-97fa-46ff-cad2-fd245d3a9fbc"
      },
      "execution_count": null,
      "outputs": [
        {
          "name": "stdout",
          "output_type": "stream",
          "text": [
            "Digite o nome do funcionário: Maria Luiza\n",
            "Digite o salário do funcionário: 2964.00\n",
            "Nome: Maria Luiza\n",
            "Salário: R$2964.00\n",
            "Novo Salário: R$3201.12\n",
            "Deseja fazer novos cálculos? (sim/não): não\n"
          ]
        }
      ]
    },
    {
      "cell_type": "code",
      "source": [
        "# 3\n",
        "total_compras = 0\n",
        "for i in range(10):\n",
        "    preco_compra = float(input(f\"Digite o preço de compra da mercadoria {i + 1}: \"))\n",
        "    preco_venda = float(input(f\"Digite o preço de venda da mercadoria {i + 1}: \"))\n",
        "\n",
        "    lucro = preco_venda - preco_compra\n",
        "    total_compras += preco_compra\n",
        "\n",
        "    if lucro > 0:\n",
        "        print(f\"Mercadoria {i + 1}: Houve lucro.\")\n",
        "        if (lucro / preco_compra) > 0.15:\n",
        "            print(\"O lucro foi maior que 15%.\")\n",
        "    else:\n",
        "        print(f\"Mercadoria {i + 1}: Não houve lucro.\")\n",
        "\n",
        "print(f\"Valor total das mercadorias compradas: R${total_compras:.2f}\")"
      ],
      "metadata": {
        "colab": {
          "base_uri": "https://localhost:8080/"
        },
        "id": "qbWKTNe1k-1_",
        "outputId": "02fe578a-f1d2-406c-91e8-160f03efb934"
      },
      "execution_count": null,
      "outputs": [
        {
          "output_type": "stream",
          "name": "stdout",
          "text": [
            "Digite o preço de compra da mercadoria 1: 100\n",
            "Digite o preço de venda da mercadoria 1: 150\n",
            "Mercadoria 1: Houve lucro.\n",
            "O lucro foi maior que 15%.\n",
            "Digite o preço de compra da mercadoria 2: 159\n",
            "Digite o preço de venda da mercadoria 2: 360\n",
            "Mercadoria 2: Houve lucro.\n",
            "O lucro foi maior que 15%.\n",
            "Digite o preço de compra da mercadoria 3: 200\n",
            "Digite o preço de venda da mercadoria 3: 250\n",
            "Mercadoria 3: Houve lucro.\n",
            "O lucro foi maior que 15%.\n",
            "Digite o preço de compra da mercadoria 4: 125\n",
            "Digite o preço de venda da mercadoria 4: 120\n",
            "Mercadoria 4: Não houve lucro.\n",
            "Digite o preço de compra da mercadoria 5: 859\n",
            "Digite o preço de venda da mercadoria 5: 900\n",
            "Mercadoria 5: Houve lucro.\n",
            "Digite o preço de compra da mercadoria 6: 900\n",
            "Digite o preço de venda da mercadoria 6: 875\n",
            "Mercadoria 6: Não houve lucro.\n",
            "Digite o preço de compra da mercadoria 7: 145\n",
            "Digite o preço de venda da mercadoria 7: 500\n",
            "Mercadoria 7: Houve lucro.\n",
            "O lucro foi maior que 15%.\n",
            "Digite o preço de compra da mercadoria 8: 458\n",
            "Digite o preço de venda da mercadoria 8: 960\n",
            "Mercadoria 8: Houve lucro.\n",
            "O lucro foi maior que 15%.\n",
            "Digite o preço de compra da mercadoria 9: 145\n",
            "Digite o preço de venda da mercadoria 9: 200\n",
            "Mercadoria 9: Houve lucro.\n",
            "O lucro foi maior que 15%.\n",
            "Digite o preço de compra da mercadoria 10: 230\n",
            "Digite o preço de venda da mercadoria 10: 240\n",
            "Mercadoria 10: Houve lucro.\n",
            "Valor total das mercadorias compradas: R$3321.00\n"
          ]
        }
      ]
    },
    {
      "cell_type": "code",
      "source": [
        "# 4\n",
        "numero_secreto = 98\n",
        "while True:\n",
        "    palpite = int(input(\"Digite um número para adivinhar o número secreto: \"))\n",
        "\n",
        "    if palpite == numero_secreto:\n",
        "        print(\"Parabéns! Você acertou o número secreto.\")\n",
        "        break\n",
        "    else:\n",
        "        print(\"Número errado. Tente novamente.\")\n"
      ],
      "metadata": {
        "colab": {
          "base_uri": "https://localhost:8080/"
        },
        "id": "Bc6O9742lVSg",
        "outputId": "a55a8635-0d54-4f7b-a1fa-f876a1313fb7"
      },
      "execution_count": null,
      "outputs": [
        {
          "output_type": "stream",
          "name": "stdout",
          "text": [
            "Digite um número para adivinhar o número secreto: 5\n",
            "Número errado. Tente novamente.\n",
            "Digite um número para adivinhar o número secreto: 100\n",
            "Número errado. Tente novamente.\n",
            "Digite um número para adivinhar o número secreto: 98\n",
            "Parabéns! Você acertou o número secreto.\n"
          ]
        }
      ]
    },
    {
      "cell_type": "code",
      "source": [
        "# 5\n",
        "n = int(input(\"Quantas caixas deseja registrar? \"))\n",
        "total_peso = 0\n",
        "total_volumes = 0\n",
        "\n",
        "for _ in range(n):\n",
        "    peso = float(input(\"Digite o peso da caixa: \"))\n",
        "    total_peso += peso\n",
        "    total_volumes += 1\n",
        "\n",
        "peso_medio = total_peso / total_volumes if total_volumes > 0 else 0\n",
        "\n",
        "print(f\"Quantidade de volumes: {total_volumes}\")\n",
        "print(f\"Peso total dos volumes: {total_peso:.2f} kg\")\n",
        "print(f\"Peso médio dos volumes: {peso_medio:.2f} kg\")\n"
      ],
      "metadata": {
        "colab": {
          "base_uri": "https://localhost:8080/"
        },
        "id": "gT-MTwwGlY8C",
        "outputId": "1c9cea50-6552-456d-d8d5-fa8a5e81d8d8"
      },
      "execution_count": null,
      "outputs": [
        {
          "output_type": "stream",
          "name": "stdout",
          "text": [
            "Quantas caixas deseja registrar? 2\n",
            "Digite o peso da caixa: 300\n",
            "Digite o peso da caixa: 650\n",
            "Quantidade de volumes: 2\n",
            "Peso total dos volumes: 950.00 kg\n",
            "Peso médio dos volumes: 475.00 kg\n"
          ]
        }
      ]
    },
    {
      "cell_type": "code",
      "source": [
        "# 6\n",
        "idBoiGordo = \"\"\n",
        "boiGordo = 0\n",
        "idBoiMagro = \"\"\n",
        "boiMagro = float('inf')\n",
        "\n",
        "while True:\n",
        "    idBoi = input(\"Digite a identificação do boi (ou 'sair' para encerrar): \")\n",
        "    if idBoi.lower() == 'sair':\n",
        "        break\n",
        "    pesoBoi = float(input(\"Digite o peso do boi: \"))\n",
        "    if pesoBoi > boiGordo:\n",
        "        boiGordo = pesoBoi\n",
        "        idBoiGordo = idBoi\n",
        "\n",
        "\n",
        "    if pesoBoi < boiMagro:\n",
        "        boiMagro = pesoBoi\n",
        "        idBoiMagro = idBoi\n",
        "\n",
        "if idBoiGordo and idBoiMagro:\n",
        "    print(f\"O boi mais gordo é: ID = {idBoiGordo}, Peso = {boiGordo}\")\n",
        "    print(f\"O boi mais magro é: ID = {idBoiMagro}, Peso = {boiMagro}\")\n",
        "else:\n",
        "    print(\"Nenhum boi foi cadastrado.\")\n",
        "\n"
      ],
      "metadata": {
        "colab": {
          "base_uri": "https://localhost:8080/"
        },
        "id": "fBOQ2Um7lba4",
        "outputId": "cee19a39-c641-4e98-9d36-c6f3238830cd"
      },
      "execution_count": 2,
      "outputs": [
        {
          "output_type": "stream",
          "name": "stdout",
          "text": [
            "Digite a identificação do boi (ou 'sair' para encerrar): 123\n",
            "Digite o peso do boi: 563\n",
            "Digite a identificação do boi (ou 'sair' para encerrar): 456\n",
            "Digite o peso do boi: 897\n",
            "Digite a identificação do boi (ou 'sair' para encerrar): 159\n",
            "Digite o peso do boi: 357\n",
            "Digite a identificação do boi (ou 'sair' para encerrar): sair\n",
            "O boi mais gordo é: ID = 456, Peso = 897.0\n",
            "O boi mais magro é: ID = 159, Peso = 357.0\n"
          ]
        }
      ]
    },
    {
      "cell_type": "code",
      "source": [
        "# 7\n",
        "def fatorial(n):\n",
        "    if n == 0 or n == 1:\n",
        "        return 1\n",
        "    else:\n",
        "        resultado = 1\n",
        "        for i in range(2, n + 1):\n",
        "            resultado *= i\n",
        "        return resultado\n",
        "\n",
        "while True:\n",
        "    numero = int(input(\"Digite um número inteiro (menor que 1 para encerrar): \"))\n",
        "    if numero < 1:\n",
        "        break\n",
        "    print(f\"O fatorial de {numero} é {fatorial(numero)}.\")\n"
      ],
      "metadata": {
        "id": "FqG_Zs0eldPC",
        "colab": {
          "base_uri": "https://localhost:8080/"
        },
        "outputId": "037df32e-33e9-430a-eb5d-1620de26abc2"
      },
      "execution_count": 3,
      "outputs": [
        {
          "name": "stdout",
          "output_type": "stream",
          "text": [
            "Digite um número inteiro (menor que 1 para encerrar): 5\n",
            "O fatorial de 5 é 120.\n",
            "Digite um número inteiro (menor que 1 para encerrar): -1\n"
          ]
        }
      ]
    },
    {
      "cell_type": "code",
      "source": [
        "# 8\n",
        "torcedores = {\n",
        "    \"Fluminense\": 0,\n",
        "    \"Botafogo\": 0,\n",
        "    \"Vasco\": 0,\n",
        "    \"Flamengo\": 0,\n",
        "    \"Outros\": 0\n",
        "}\n",
        "soma_salarios_botafogo = 0\n",
        "moradores_rj_outros_clubes = 0\n",
        "niteroi_fluminense = 0\n",
        "\n",
        "while True:\n",
        "    time = int(input(\"Qual seu time de coração? (1-Fluminense; 2-Botafogo; 3-Vasco; 4-Flamengo; 5-Outros): \"))\n",
        "    if time == 1:\n",
        "        torcedores[\"Fluminense\"] += 1\n",
        "    elif time == 2:\n",
        "        torcedores[\"Botafogo\"] += 1\n",
        "        salario = float(input(\"Digite seu salário: \"))\n",
        "        soma_salarios_botafogo += salario\n",
        "    elif time == 3:\n",
        "        torcedores[\"Vasco\"] += 1\n",
        "    elif time == 4:\n",
        "        torcedores[\"Flamengo\"] += 1\n",
        "    elif time == 5:\n",
        "        torcedores[\"Outros\"] += 1\n",
        "\n",
        "    moradia = int(input(\"Onde você mora? (1-RJ; 2-Niterói; 3-Outros): \"))\n",
        "    if moradia == 1 and time != 2:  # Moradores do RJ, torcedores de outros clubes\n",
        "        moradores_rj_outros_clubes += 1\n",
        "    elif moradia == 2 and time == 1:  # Niterói e torcedores do Fluminense\n",
        "        niteroi_fluminense += 1\n",
        "\n",
        "    continuar = input(\"Deseja continuar? (sim/não): \").strip().lower()\n",
        "    if continuar != 'sim':\n",
        "        break\n",
        "\n",
        "# Resultados\n",
        "print(\"Número de torcedores por clube:\")\n",
        "for time, contagem in torcedores.items():\n",
        "    print(f\"{time}: {contagem}\")\n",
        "\n",
        "media_salarios_botafogo = soma_salarios_botafogo / torcedores[\"Botafogo\"] if torcedores[\"Botafogo\"] > 0 else 0\n",
        "print(f\"Média salarial dos torcedores do Botafogo: R${media_salarios_botafogo:.2f}\")\n",
        "print(f\"Número de moradores do RJ torcedores de outros clubes: {moradores_rj_outros_clubes}\")\n",
        "print(f\"Número de pessoas de Niterói torcedoras do Fluminense: {niteroi_fluminense}\")\n"
      ],
      "metadata": {
        "id": "mVeU_CJTlgQM",
        "colab": {
          "base_uri": "https://localhost:8080/"
        },
        "outputId": "3387ad75-e7b6-491c-ce1a-d593b4ca773a"
      },
      "execution_count": 4,
      "outputs": [
        {
          "output_type": "stream",
          "name": "stdout",
          "text": [
            "Qual seu time de coração? (1-Fluminense; 2-Botafogo; 3-Vasco; 4-Flamengo; 5-Outros): 3\n",
            "Onde você mora? (1-RJ; 2-Niterói; 3-Outros): 3\n",
            "Deseja continuar? (sim/não): sim\n",
            "Qual seu time de coração? (1-Fluminense; 2-Botafogo; 3-Vasco; 4-Flamengo; 5-Outros): 2\n",
            "Digite seu salário: 1500\n",
            "Onde você mora? (1-RJ; 2-Niterói; 3-Outros): 1\n",
            "Deseja continuar? (sim/não): não\n",
            "Número de torcedores por clube:\n",
            "Fluminense: 0\n",
            "Botafogo: 1\n",
            "Vasco: 1\n",
            "Flamengo: 0\n",
            "Outros: 0\n",
            "Média salarial dos torcedores do Botafogo: R$1500.00\n",
            "Número de moradores do RJ torcedores de outros clubes: 0\n",
            "Número de pessoas de Niterói torcedoras do Fluminense: 0\n"
          ]
        }
      ]
    },
    {
      "cell_type": "markdown",
      "source": [
        "## Laços de repetição, break e continue\n",
        "\n"
      ],
      "metadata": {
        "id": "JdO8Zui1tfR4"
      }
    },
    {
      "cell_type": "markdown",
      "source": [
        "Os laços de repetição, ou loops, são usados para executar um bloco de código várias vezes, com base em uma condição. Python possui duas estruturas principais de repetição: `for` e `while`.\n",
        "\n",
        "\n",
        "FOR   \n",
        "Percorre uma sequência (como uma lista, tupla, string ou um intervalo).\n",
        "```\n",
        "# Sintaxe\n",
        "for elemento in sequencia:\n",
        "    # bloco de código\n",
        "\n",
        "# Exemplo\n",
        "for i in range(5):\n",
        "    print(i)  # Imprime 0, 1, 2, 3, 4\n",
        "\n",
        "```\n",
        "WHILE  \n",
        "Executa um bloco de código enquanto uma condição for verdadeira.\n",
        "\n",
        "\n",
        "\n",
        "```\n",
        "# Sintaxe\n",
        "while condicao:\n",
        "    # bloco de código\n",
        "\n",
        "# Exemplo\n",
        "contador = 0\n",
        "while contador < 5:\n",
        "    print(contador)  # Imprime 0, 1, 2, 3, 4\n",
        "    contador += 1\n",
        "```\n",
        "\n",
        "\n",
        "BREAK  \n",
        "* Encerra o laço atual e sai dele imediatamente, independentemente da condição de repetição.\n",
        "* Aplicação: Útil quando precisamos interromper a execução de um loop antes que ele termine naturalmente.\n",
        "\n",
        "```\n",
        "# Exemplo\n",
        "for i in range(10):\n",
        "    if i == 5:\n",
        "        break  # Interrompe o loop quando i é 5\n",
        "    print(i)  # Imprime 0, 1, 2, 3, 4\n",
        "```\n",
        "\n",
        "CONTINUE\n",
        "* Faz com que o loop pule a iteração atual e continue com a próxima iteração.\n",
        "* Aplicação: Útil quando desejamos ignorar partes do loop sob certas condições, mas ainda assim deseja que o loop continue.\n",
        "\n",
        "```\n",
        "# Exemplo\n",
        "for i in range(5):\n",
        "    if i == 2:\n",
        "        continue  # Ignora a iteração quando i é 2\n",
        "    print(i)  # Imprime 0, 1, 3, 4\n",
        "```\n",
        "\n"
      ],
      "metadata": {
        "id": "pvD8Ci4otssI"
      }
    }
  ]
}